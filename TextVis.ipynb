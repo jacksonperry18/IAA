{
 "cells": [
  {
   "cell_type": "code",
   "execution_count": 32,
   "metadata": {},
   "outputs": [
    {
     "data": {
      "text/html": [
       "<div>\n",
       "<style scoped>\n",
       "    .dataframe tbody tr th:only-of-type {\n",
       "        vertical-align: middle;\n",
       "    }\n",
       "\n",
       "    .dataframe tbody tr th {\n",
       "        vertical-align: top;\n",
       "    }\n",
       "\n",
       "    .dataframe thead th {\n",
       "        text-align: right;\n",
       "    }\n",
       "</style>\n",
       "<table border=\"1\" class=\"dataframe\">\n",
       "  <thead>\n",
       "    <tr style=\"text-align: right;\">\n",
       "      <th></th>\n",
       "      <th>char</th>\n",
       "      <th>pict</th>\n",
       "      <th>season</th>\n",
       "      <th>freq</th>\n",
       "      <th>valence</th>\n",
       "      <th>arousal</th>\n",
       "    </tr>\n",
       "  </thead>\n",
       "  <tbody>\n",
       "    <tr>\n",
       "      <td>0</td>\n",
       "      <td>michael</td>\n",
       "      <td>michael</td>\n",
       "      <td>1</td>\n",
       "      <td>642</td>\n",
       "      <td>5.389410</td>\n",
       "      <td>4.086395</td>\n",
       "    </tr>\n",
       "    <tr>\n",
       "      <td>1</td>\n",
       "      <td>dwight</td>\n",
       "      <td>dwight</td>\n",
       "      <td>1</td>\n",
       "      <td>326</td>\n",
       "      <td>4.838673</td>\n",
       "      <td>3.738385</td>\n",
       "    </tr>\n",
       "    <tr>\n",
       "      <td>2</td>\n",
       "      <td>jim</td>\n",
       "      <td>jim</td>\n",
       "      <td>1</td>\n",
       "      <td>285</td>\n",
       "      <td>4.874992</td>\n",
       "      <td>3.728120</td>\n",
       "    </tr>\n",
       "    <tr>\n",
       "      <td>3</td>\n",
       "      <td>pam</td>\n",
       "      <td>pam</td>\n",
       "      <td>1</td>\n",
       "      <td>219</td>\n",
       "      <td>3.912807</td>\n",
       "      <td>3.200045</td>\n",
       "    </tr>\n",
       "    <tr>\n",
       "      <td>4</td>\n",
       "      <td>andy</td>\n",
       "      <td>andy</td>\n",
       "      <td>1</td>\n",
       "      <td>0</td>\n",
       "      <td>NaN</td>\n",
       "      <td>NaN</td>\n",
       "    </tr>\n",
       "  </tbody>\n",
       "</table>\n",
       "</div>"
      ],
      "text/plain": [
       "      char     pict  season  freq   valence   arousal\n",
       "0  michael  michael       1   642  5.389410  4.086395\n",
       "1   dwight   dwight       1   326  4.838673  3.738385\n",
       "2      jim      jim       1   285  4.874992  3.728120\n",
       "3      pam      pam       1   219  3.912807  3.200045\n",
       "4     andy     andy       1     0       NaN       NaN"
      ]
     },
     "execution_count": 32,
     "metadata": {},
     "output_type": "execute_result"
    }
   ],
   "source": [
    "#load in data set\n",
    "import plotly.express as px\n",
    "import pandas as pd\n",
    "mock = pd.read_csv(\"/Users/jacksonperry/Desktop/Fall 2/sentimentTest.csv\")\n",
    "mock.head()"
   ]
  },
  {
   "cell_type": "code",
   "execution_count": 35,
   "metadata": {},
   "outputs": [
    {
     "data": {
      "application/vnd.plotly.v1+json": {
       "config": {
        "plotlyServerURL": "https://plot.ly"
       },
       "data": [
        {
         "hoverlabel": {
          "namelength": 0
         },
         "hovertemplate": "<b>%{hovertext}</b><br><br>pict=michael<br>season=1<br>valence=%{x}<br>arousal=%{y}<br>freq=%{marker.size}",
         "hovertext": [
          "michael"
         ],
         "ids": [
          "michael"
         ],
         "legendgroup": "pict=michael",
         "marker": {
          "color": "#636efa",
          "size": [
           642
          ],
          "sizemode": "area",
          "sizeref": 5.81,
          "symbol": "circle"
         },
         "mode": "markers",
         "name": "pict=michael",
         "showlegend": true,
         "type": "scatter",
         "x": [
          5.3894102224442335
         ],
         "xaxis": "x",
         "y": [
          4.086394961121363
         ],
         "yaxis": "y"
        },
        {
         "hoverlabel": {
          "namelength": 0
         },
         "hovertemplate": "<b>%{hovertext}</b><br><br>pict=dwight<br>season=1<br>valence=%{x}<br>arousal=%{y}<br>freq=%{marker.size}",
         "hovertext": [
          "dwight"
         ],
         "ids": [
          "dwight"
         ],
         "legendgroup": "pict=dwight",
         "marker": {
          "color": "#EF553B",
          "size": [
           326
          ],
          "sizemode": "area",
          "sizeref": 5.81,
          "symbol": "circle"
         },
         "mode": "markers",
         "name": "pict=dwight",
         "showlegend": true,
         "type": "scatter",
         "x": [
          4.83867268011791
         ],
         "xaxis": "x",
         "y": [
          3.7383846678706014
         ],
         "yaxis": "y"
        },
        {
         "hoverlabel": {
          "namelength": 0
         },
         "hovertemplate": "<b>%{hovertext}</b><br><br>pict=jim<br>season=1<br>valence=%{x}<br>arousal=%{y}<br>freq=%{marker.size}",
         "hovertext": [
          "jim"
         ],
         "ids": [
          "jim"
         ],
         "legendgroup": "pict=jim",
         "marker": {
          "color": "#00cc96",
          "size": [
           285
          ],
          "sizemode": "area",
          "sizeref": 5.81,
          "symbol": "circle"
         },
         "mode": "markers",
         "name": "pict=jim",
         "showlegend": true,
         "type": "scatter",
         "x": [
          4.874991748989316
         ],
         "xaxis": "x",
         "y": [
          3.72811983349916
         ],
         "yaxis": "y"
        },
        {
         "hoverlabel": {
          "namelength": 0
         },
         "hovertemplate": "<b>%{hovertext}</b><br><br>pict=pam<br>season=1<br>valence=%{x}<br>arousal=%{y}<br>freq=%{marker.size}",
         "hovertext": [
          "pam"
         ],
         "ids": [
          "pam"
         ],
         "legendgroup": "pict=pam",
         "marker": {
          "color": "#ab63fa",
          "size": [
           219
          ],
          "sizemode": "area",
          "sizeref": 5.81,
          "symbol": "circle"
         },
         "mode": "markers",
         "name": "pict=pam",
         "showlegend": true,
         "type": "scatter",
         "x": [
          3.9128072795605062
         ],
         "xaxis": "x",
         "y": [
          3.200044513535418
         ],
         "yaxis": "y"
        },
        {
         "hoverlabel": {
          "namelength": 0
         },
         "hovertemplate": "<b>%{hovertext}</b><br><br>pict=andy<br>season=1<br>valence=%{x}<br>arousal=%{y}<br>freq=%{marker.size}",
         "hovertext": [
          "andy"
         ],
         "ids": [
          "andy"
         ],
         "legendgroup": "pict=andy",
         "marker": {
          "color": "#FFA15A",
          "size": [
           0
          ],
          "sizemode": "area",
          "sizeref": 5.81,
          "symbol": "circle"
         },
         "mode": "markers",
         "name": "pict=andy",
         "showlegend": true,
         "type": "scatter",
         "x": [
          null
         ],
         "xaxis": "x",
         "y": [
          null
         ],
         "yaxis": "y"
        },
        {
         "hoverlabel": {
          "namelength": 0
         },
         "hovertemplate": "<b>%{hovertext}</b><br><br>pict=kevin<br>season=1<br>valence=%{x}<br>arousal=%{y}<br>freq=%{marker.size}",
         "hovertext": [
          "kevin"
         ],
         "ids": [
          "kevin"
         ],
         "legendgroup": "pict=kevin",
         "marker": {
          "color": "#19d3f3",
          "size": [
           30
          ],
          "sizemode": "area",
          "sizeref": 5.81,
          "symbol": "circle"
         },
         "mode": "markers",
         "name": "pict=kevin",
         "showlegend": true,
         "type": "scatter",
         "x": [
          5.058198322180568
         ],
         "xaxis": "x",
         "y": [
          3.3969960799576886
         ],
         "yaxis": "y"
        },
        {
         "hoverlabel": {
          "namelength": 0
         },
         "hovertemplate": "<b>%{hovertext}</b><br><br>pict=angela<br>season=1<br>valence=%{x}<br>arousal=%{y}<br>freq=%{marker.size}",
         "hovertext": [
          "angela"
         ],
         "ids": [
          "angela"
         ],
         "legendgroup": "pict=angela",
         "marker": {
          "color": "#FF6692",
          "size": [
           32
          ],
          "sizemode": "area",
          "sizeref": 5.81,
          "symbol": "circle"
         },
         "mode": "markers",
         "name": "pict=angela",
         "showlegend": true,
         "type": "scatter",
         "x": [
          4.38043493457421
         ],
         "xaxis": "x",
         "y": [
          3.5234748018687947
         ],
         "yaxis": "y"
        },
        {
         "hoverlabel": {
          "namelength": 0
         },
         "hovertemplate": "<b>%{hovertext}</b><br><br>pict=oscar<br>season=1<br>valence=%{x}<br>arousal=%{y}<br>freq=%{marker.size}",
         "hovertext": [
          "oscar"
         ],
         "ids": [
          "oscar"
         ],
         "legendgroup": "pict=oscar",
         "marker": {
          "color": "#B6E880",
          "size": [
           58
          ],
          "sizemode": "area",
          "sizeref": 5.81,
          "symbol": "circle"
         },
         "mode": "markers",
         "name": "pict=oscar",
         "showlegend": true,
         "type": "scatter",
         "x": [
          5.388406472879785
         ],
         "xaxis": "x",
         "y": [
          3.672917840808145
         ],
         "yaxis": "y"
        },
        {
         "hoverlabel": {
          "namelength": 0
         },
         "hovertemplate": "<b>%{hovertext}</b><br><br>pict=erin<br>season=1<br>valence=%{x}<br>arousal=%{y}<br>freq=%{marker.size}",
         "hovertext": [
          "erin"
         ],
         "ids": [
          "erin"
         ],
         "legendgroup": "pict=erin",
         "marker": {
          "color": "#FF97FF",
          "size": [
           0
          ],
          "sizemode": "area",
          "sizeref": 5.81,
          "symbol": "circle"
         },
         "mode": "markers",
         "name": "pict=erin",
         "showlegend": true,
         "type": "scatter",
         "x": [
          null
         ],
         "xaxis": "x",
         "y": [
          null
         ],
         "yaxis": "y"
        },
        {
         "hoverlabel": {
          "namelength": 0
         },
         "hovertemplate": "<b>%{hovertext}</b><br><br>pict=ryan<br>season=1<br>valence=%{x}<br>arousal=%{y}<br>freq=%{marker.size}",
         "hovertext": [
          "ryan"
         ],
         "ids": [
          "ryan"
         ],
         "legendgroup": "pict=ryan",
         "marker": {
          "color": "#FECB52",
          "size": [
           52
          ],
          "sizemode": "area",
          "sizeref": 5.81,
          "symbol": "circle"
         },
         "mode": "markers",
         "name": "pict=ryan",
         "showlegend": true,
         "type": "scatter",
         "x": [
          4.8230293510959665
         ],
         "xaxis": "x",
         "y": [
          3.434005348728725
         ],
         "yaxis": "y"
        }
       ],
       "frames": [
        {
         "data": [
          {
           "hoverlabel": {
            "namelength": 0
           },
           "hovertemplate": "<b>%{hovertext}</b><br><br>pict=michael<br>season=1<br>valence=%{x}<br>arousal=%{y}<br>freq=%{marker.size}",
           "hovertext": [
            "michael"
           ],
           "ids": [
            "michael"
           ],
           "legendgroup": "pict=michael",
           "marker": {
            "color": "#636efa",
            "size": [
             642
            ],
            "sizemode": "area",
            "sizeref": 5.81,
            "symbol": "circle"
           },
           "mode": "markers",
           "name": "pict=michael",
           "showlegend": true,
           "type": "scatter",
           "x": [
            5.3894102224442335
           ],
           "xaxis": "x",
           "y": [
            4.086394961121363
           ],
           "yaxis": "y"
          },
          {
           "hoverlabel": {
            "namelength": 0
           },
           "hovertemplate": "<b>%{hovertext}</b><br><br>pict=dwight<br>season=1<br>valence=%{x}<br>arousal=%{y}<br>freq=%{marker.size}",
           "hovertext": [
            "dwight"
           ],
           "ids": [
            "dwight"
           ],
           "legendgroup": "pict=dwight",
           "marker": {
            "color": "#EF553B",
            "size": [
             326
            ],
            "sizemode": "area",
            "sizeref": 5.81,
            "symbol": "circle"
           },
           "mode": "markers",
           "name": "pict=dwight",
           "showlegend": true,
           "type": "scatter",
           "x": [
            4.83867268011791
           ],
           "xaxis": "x",
           "y": [
            3.7383846678706014
           ],
           "yaxis": "y"
          },
          {
           "hoverlabel": {
            "namelength": 0
           },
           "hovertemplate": "<b>%{hovertext}</b><br><br>pict=jim<br>season=1<br>valence=%{x}<br>arousal=%{y}<br>freq=%{marker.size}",
           "hovertext": [
            "jim"
           ],
           "ids": [
            "jim"
           ],
           "legendgroup": "pict=jim",
           "marker": {
            "color": "#00cc96",
            "size": [
             285
            ],
            "sizemode": "area",
            "sizeref": 5.81,
            "symbol": "circle"
           },
           "mode": "markers",
           "name": "pict=jim",
           "showlegend": true,
           "type": "scatter",
           "x": [
            4.874991748989316
           ],
           "xaxis": "x",
           "y": [
            3.72811983349916
           ],
           "yaxis": "y"
          },
          {
           "hoverlabel": {
            "namelength": 0
           },
           "hovertemplate": "<b>%{hovertext}</b><br><br>pict=pam<br>season=1<br>valence=%{x}<br>arousal=%{y}<br>freq=%{marker.size}",
           "hovertext": [
            "pam"
           ],
           "ids": [
            "pam"
           ],
           "legendgroup": "pict=pam",
           "marker": {
            "color": "#ab63fa",
            "size": [
             219
            ],
            "sizemode": "area",
            "sizeref": 5.81,
            "symbol": "circle"
           },
           "mode": "markers",
           "name": "pict=pam",
           "showlegend": true,
           "type": "scatter",
           "x": [
            3.9128072795605062
           ],
           "xaxis": "x",
           "y": [
            3.200044513535418
           ],
           "yaxis": "y"
          },
          {
           "hoverlabel": {
            "namelength": 0
           },
           "hovertemplate": "<b>%{hovertext}</b><br><br>pict=andy<br>season=1<br>valence=%{x}<br>arousal=%{y}<br>freq=%{marker.size}",
           "hovertext": [
            "andy"
           ],
           "ids": [
            "andy"
           ],
           "legendgroup": "pict=andy",
           "marker": {
            "color": "#FFA15A",
            "size": [
             0
            ],
            "sizemode": "area",
            "sizeref": 5.81,
            "symbol": "circle"
           },
           "mode": "markers",
           "name": "pict=andy",
           "showlegend": true,
           "type": "scatter",
           "x": [
            null
           ],
           "xaxis": "x",
           "y": [
            null
           ],
           "yaxis": "y"
          },
          {
           "hoverlabel": {
            "namelength": 0
           },
           "hovertemplate": "<b>%{hovertext}</b><br><br>pict=kevin<br>season=1<br>valence=%{x}<br>arousal=%{y}<br>freq=%{marker.size}",
           "hovertext": [
            "kevin"
           ],
           "ids": [
            "kevin"
           ],
           "legendgroup": "pict=kevin",
           "marker": {
            "color": "#19d3f3",
            "size": [
             30
            ],
            "sizemode": "area",
            "sizeref": 5.81,
            "symbol": "circle"
           },
           "mode": "markers",
           "name": "pict=kevin",
           "showlegend": true,
           "type": "scatter",
           "x": [
            5.058198322180568
           ],
           "xaxis": "x",
           "y": [
            3.3969960799576886
           ],
           "yaxis": "y"
          },
          {
           "hoverlabel": {
            "namelength": 0
           },
           "hovertemplate": "<b>%{hovertext}</b><br><br>pict=angela<br>season=1<br>valence=%{x}<br>arousal=%{y}<br>freq=%{marker.size}",
           "hovertext": [
            "angela"
           ],
           "ids": [
            "angela"
           ],
           "legendgroup": "pict=angela",
           "marker": {
            "color": "#FF6692",
            "size": [
             32
            ],
            "sizemode": "area",
            "sizeref": 5.81,
            "symbol": "circle"
           },
           "mode": "markers",
           "name": "pict=angela",
           "showlegend": true,
           "type": "scatter",
           "x": [
            4.38043493457421
           ],
           "xaxis": "x",
           "y": [
            3.5234748018687947
           ],
           "yaxis": "y"
          },
          {
           "hoverlabel": {
            "namelength": 0
           },
           "hovertemplate": "<b>%{hovertext}</b><br><br>pict=oscar<br>season=1<br>valence=%{x}<br>arousal=%{y}<br>freq=%{marker.size}",
           "hovertext": [
            "oscar"
           ],
           "ids": [
            "oscar"
           ],
           "legendgroup": "pict=oscar",
           "marker": {
            "color": "#B6E880",
            "size": [
             58
            ],
            "sizemode": "area",
            "sizeref": 5.81,
            "symbol": "circle"
           },
           "mode": "markers",
           "name": "pict=oscar",
           "showlegend": true,
           "type": "scatter",
           "x": [
            5.388406472879785
           ],
           "xaxis": "x",
           "y": [
            3.672917840808145
           ],
           "yaxis": "y"
          },
          {
           "hoverlabel": {
            "namelength": 0
           },
           "hovertemplate": "<b>%{hovertext}</b><br><br>pict=erin<br>season=1<br>valence=%{x}<br>arousal=%{y}<br>freq=%{marker.size}",
           "hovertext": [
            "erin"
           ],
           "ids": [
            "erin"
           ],
           "legendgroup": "pict=erin",
           "marker": {
            "color": "#FF97FF",
            "size": [
             0
            ],
            "sizemode": "area",
            "sizeref": 5.81,
            "symbol": "circle"
           },
           "mode": "markers",
           "name": "pict=erin",
           "showlegend": true,
           "type": "scatter",
           "x": [
            null
           ],
           "xaxis": "x",
           "y": [
            null
           ],
           "yaxis": "y"
          },
          {
           "hoverlabel": {
            "namelength": 0
           },
           "hovertemplate": "<b>%{hovertext}</b><br><br>pict=ryan<br>season=1<br>valence=%{x}<br>arousal=%{y}<br>freq=%{marker.size}",
           "hovertext": [
            "ryan"
           ],
           "ids": [
            "ryan"
           ],
           "legendgroup": "pict=ryan",
           "marker": {
            "color": "#FECB52",
            "size": [
             52
            ],
            "sizemode": "area",
            "sizeref": 5.81,
            "symbol": "circle"
           },
           "mode": "markers",
           "name": "pict=ryan",
           "showlegend": true,
           "type": "scatter",
           "x": [
            4.8230293510959665
           ],
           "xaxis": "x",
           "y": [
            3.434005348728725
           ],
           "yaxis": "y"
          }
         ],
         "name": "1"
        },
        {
         "data": [
          {
           "hoverlabel": {
            "namelength": 0
           },
           "hovertemplate": "<b>%{hovertext}</b><br><br>pict=michael<br>season=2<br>valence=%{x}<br>arousal=%{y}<br>freq=%{marker.size}",
           "hovertext": [
            "michael"
           ],
           "ids": [
            "michael"
           ],
           "legendgroup": "pict=michael",
           "marker": {
            "color": "#636efa",
            "size": [
             2324
            ],
            "sizemode": "area",
            "sizeref": 5.81,
            "symbol": "circle"
           },
           "mode": "markers",
           "name": "pict=michael",
           "showlegend": true,
           "type": "scatter",
           "x": [
            4.959742334213665
           ],
           "xaxis": "x",
           "y": [
            3.784394629966104
           ],
           "yaxis": "y"
          },
          {
           "hoverlabel": {
            "namelength": 0
           },
           "hovertemplate": "<b>%{hovertext}</b><br><br>pict=dwight<br>season=2<br>valence=%{x}<br>arousal=%{y}<br>freq=%{marker.size}",
           "hovertext": [
            "dwight"
           ],
           "ids": [
            "dwight"
           ],
           "legendgroup": "pict=dwight",
           "marker": {
            "color": "#EF553B",
            "size": [
             1114
            ],
            "sizemode": "area",
            "sizeref": 5.81,
            "symbol": "circle"
           },
           "mode": "markers",
           "name": "pict=dwight",
           "showlegend": true,
           "type": "scatter",
           "x": [
            4.758592179754369
           ],
           "xaxis": "x",
           "y": [
            3.729463437965317
           ],
           "yaxis": "y"
          },
          {
           "hoverlabel": {
            "namelength": 0
           },
           "hovertemplate": "<b>%{hovertext}</b><br><br>pict=jim<br>season=2<br>valence=%{x}<br>arousal=%{y}<br>freq=%{marker.size}",
           "hovertext": [
            "jim"
           ],
           "ids": [
            "jim"
           ],
           "legendgroup": "pict=jim",
           "marker": {
            "color": "#00cc96",
            "size": [
             906
            ],
            "sizemode": "area",
            "sizeref": 5.81,
            "symbol": "circle"
           },
           "mode": "markers",
           "name": "pict=jim",
           "showlegend": true,
           "type": "scatter",
           "x": [
            4.672921546840124
           ],
           "xaxis": "x",
           "y": [
            3.4823680573631486
           ],
           "yaxis": "y"
          },
          {
           "hoverlabel": {
            "namelength": 0
           },
           "hovertemplate": "<b>%{hovertext}</b><br><br>pict=pam<br>season=2<br>valence=%{x}<br>arousal=%{y}<br>freq=%{marker.size}",
           "hovertext": [
            "pam"
           ],
           "ids": [
            "pam"
           ],
           "legendgroup": "pict=pam",
           "marker": {
            "color": "#ab63fa",
            "size": [
             729
            ],
            "sizemode": "area",
            "sizeref": 5.81,
            "symbol": "circle"
           },
           "mode": "markers",
           "name": "pict=pam",
           "showlegend": true,
           "type": "scatter",
           "x": [
            4.679778689968384
           ],
           "xaxis": "x",
           "y": [
            3.59053226340982
           ],
           "yaxis": "y"
          },
          {
           "hoverlabel": {
            "namelength": 0
           },
           "hovertemplate": "<b>%{hovertext}</b><br><br>pict=andy<br>season=2<br>valence=%{x}<br>arousal=%{y}<br>freq=%{marker.size}",
           "hovertext": [
            "andy"
           ],
           "ids": [
            "andy"
           ],
           "legendgroup": "pict=andy",
           "marker": {
            "color": "#FFA15A",
            "size": [
             0
            ],
            "sizemode": "area",
            "sizeref": 5.81,
            "symbol": "circle"
           },
           "mode": "markers",
           "name": "pict=andy",
           "showlegend": true,
           "type": "scatter",
           "x": [
            null
           ],
           "xaxis": "x",
           "y": [
            null
           ],
           "yaxis": "y"
          },
          {
           "hoverlabel": {
            "namelength": 0
           },
           "hovertemplate": "<b>%{hovertext}</b><br><br>pict=kevin<br>season=2<br>valence=%{x}<br>arousal=%{y}<br>freq=%{marker.size}",
           "hovertext": [
            "kevin"
           ],
           "ids": [
            "kevin"
           ],
           "legendgroup": "pict=kevin",
           "marker": {
            "color": "#19d3f3",
            "size": [
             157
            ],
            "sizemode": "area",
            "sizeref": 5.81,
            "symbol": "circle"
           },
           "mode": "markers",
           "name": "pict=kevin",
           "showlegend": true,
           "type": "scatter",
           "x": [
            4.604969269490652
           ],
           "xaxis": "x",
           "y": [
            3.586098738095276
           ],
           "yaxis": "y"
          },
          {
           "hoverlabel": {
            "namelength": 0
           },
           "hovertemplate": "<b>%{hovertext}</b><br><br>pict=angela<br>season=2<br>valence=%{x}<br>arousal=%{y}<br>freq=%{marker.size}",
           "hovertext": [
            "angela"
           ],
           "ids": [
            "angela"
           ],
           "legendgroup": "pict=angela",
           "marker": {
            "color": "#FF6692",
            "size": [
             162
            ],
            "sizemode": "area",
            "sizeref": 5.81,
            "symbol": "circle"
           },
           "mode": "markers",
           "name": "pict=angela",
           "showlegend": true,
           "type": "scatter",
           "x": [
            4.556471767070616
           ],
           "xaxis": "x",
           "y": [
            3.530703209092225
           ],
           "yaxis": "y"
          },
          {
           "hoverlabel": {
            "namelength": 0
           },
           "hovertemplate": "<b>%{hovertext}</b><br><br>pict=oscar<br>season=2<br>valence=%{x}<br>arousal=%{y}<br>freq=%{marker.size}",
           "hovertext": [
            "oscar"
           ],
           "ids": [
            "oscar"
           ],
           "legendgroup": "pict=oscar",
           "marker": {
            "color": "#B6E880",
            "size": [
             130
            ],
            "sizemode": "area",
            "sizeref": 5.81,
            "symbol": "circle"
           },
           "mode": "markers",
           "name": "pict=oscar",
           "showlegend": true,
           "type": "scatter",
           "x": [
            4.316758839904839
           ],
           "xaxis": "x",
           "y": [
            3.3915390089902187
           ],
           "yaxis": "y"
          },
          {
           "hoverlabel": {
            "namelength": 0
           },
           "hovertemplate": "<b>%{hovertext}</b><br><br>pict=erin<br>season=2<br>valence=%{x}<br>arousal=%{y}<br>freq=%{marker.size}",
           "hovertext": [
            "erin"
           ],
           "ids": [
            "erin"
           ],
           "legendgroup": "pict=erin",
           "marker": {
            "color": "#FF97FF",
            "size": [
             0
            ],
            "sizemode": "area",
            "sizeref": 5.81,
            "symbol": "circle"
           },
           "mode": "markers",
           "name": "pict=erin",
           "showlegend": true,
           "type": "scatter",
           "x": [
            null
           ],
           "xaxis": "x",
           "y": [
            null
           ],
           "yaxis": "y"
          },
          {
           "hoverlabel": {
            "namelength": 0
           },
           "hovertemplate": "<b>%{hovertext}</b><br><br>pict=ryan<br>season=2<br>valence=%{x}<br>arousal=%{y}<br>freq=%{marker.size}",
           "hovertext": [
            "ryan"
           ],
           "ids": [
            "ryan"
           ],
           "legendgroup": "pict=ryan",
           "marker": {
            "color": "#FECB52",
            "size": [
             227
            ],
            "sizemode": "area",
            "sizeref": 5.81,
            "symbol": "circle"
           },
           "mode": "markers",
           "name": "pict=ryan",
           "showlegend": true,
           "type": "scatter",
           "x": [
            4.407953136039857
           ],
           "xaxis": "x",
           "y": [
            3.4358947398997315
           ],
           "yaxis": "y"
          }
         ],
         "name": "2"
        },
        {
         "data": [
          {
           "hoverlabel": {
            "namelength": 0
           },
           "hovertemplate": "<b>%{hovertext}</b><br><br>pict=michael<br>season=3<br>valence=%{x}<br>arousal=%{y}<br>freq=%{marker.size}",
           "hovertext": [
            "michael"
           ],
           "ids": [
            "michael"
           ],
           "legendgroup": "pict=michael",
           "marker": {
            "color": "#636efa",
            "size": [
             1990
            ],
            "sizemode": "area",
            "sizeref": 5.81,
            "symbol": "circle"
           },
           "mode": "markers",
           "name": "pict=michael",
           "showlegend": true,
           "type": "scatter",
           "x": [
            5.062062778338467
           ],
           "xaxis": "x",
           "y": [
            3.869244603041011
           ],
           "yaxis": "y"
          },
          {
           "hoverlabel": {
            "namelength": 0
           },
           "hovertemplate": "<b>%{hovertext}</b><br><br>pict=dwight<br>season=3<br>valence=%{x}<br>arousal=%{y}<br>freq=%{marker.size}",
           "hovertext": [
            "dwight"
           ],
           "ids": [
            "dwight"
           ],
           "legendgroup": "pict=dwight",
           "marker": {
            "color": "#EF553B",
            "size": [
             939
            ],
            "sizemode": "area",
            "sizeref": 5.81,
            "symbol": "circle"
           },
           "mode": "markers",
           "name": "pict=dwight",
           "showlegend": true,
           "type": "scatter",
           "x": [
            4.834057700447544
           ],
           "xaxis": "x",
           "y": [
            3.8703846298619835
           ],
           "yaxis": "y"
          },
          {
           "hoverlabel": {
            "namelength": 0
           },
           "hovertemplate": "<b>%{hovertext}</b><br><br>pict=jim<br>season=3<br>valence=%{x}<br>arousal=%{y}<br>freq=%{marker.size}",
           "hovertext": [
            "jim"
           ],
           "ids": [
            "jim"
           ],
           "legendgroup": "pict=jim",
           "marker": {
            "color": "#00cc96",
            "size": [
             783
            ],
            "sizemode": "area",
            "sizeref": 5.81,
            "symbol": "circle"
           },
           "mode": "markers",
           "name": "pict=jim",
           "showlegend": true,
           "type": "scatter",
           "x": [
            4.593692906752937
           ],
           "xaxis": "x",
           "y": [
            3.4639002415477256
           ],
           "yaxis": "y"
          },
          {
           "hoverlabel": {
            "namelength": 0
           },
           "hovertemplate": "<b>%{hovertext}</b><br><br>pict=pam<br>season=3<br>valence=%{x}<br>arousal=%{y}<br>freq=%{marker.size}",
           "hovertext": [
            "pam"
           ],
           "ids": [
            "pam"
           ],
           "legendgroup": "pict=pam",
           "marker": {
            "color": "#ab63fa",
            "size": [
             665
            ],
            "sizemode": "area",
            "sizeref": 5.81,
            "symbol": "circle"
           },
           "mode": "markers",
           "name": "pict=pam",
           "showlegend": true,
           "type": "scatter",
           "x": [
            4.6546331415607245
           ],
           "xaxis": "x",
           "y": [
            3.4499067031972612
           ],
           "yaxis": "y"
          },
          {
           "hoverlabel": {
            "namelength": 0
           },
           "hovertemplate": "<b>%{hovertext}</b><br><br>pict=andy<br>season=3<br>valence=%{x}<br>arousal=%{y}<br>freq=%{marker.size}",
           "hovertext": [
            "andy"
           ],
           "ids": [
            "andy"
           ],
           "legendgroup": "pict=andy",
           "marker": {
            "color": "#FFA15A",
            "size": [
             391
            ],
            "sizemode": "area",
            "sizeref": 5.81,
            "symbol": "circle"
           },
           "mode": "markers",
           "name": "pict=andy",
           "showlegend": true,
           "type": "scatter",
           "x": [
            5.162521331545661
           ],
           "xaxis": "x",
           "y": [
            3.945707951202051
           ],
           "yaxis": "y"
          },
          {
           "hoverlabel": {
            "namelength": 0
           },
           "hovertemplate": "<b>%{hovertext}</b><br><br>pict=kevin<br>season=3<br>valence=%{x}<br>arousal=%{y}<br>freq=%{marker.size}",
           "hovertext": [
            "kevin"
           ],
           "ids": [
            "kevin"
           ],
           "legendgroup": "pict=kevin",
           "marker": {
            "color": "#19d3f3",
            "size": [
             212
            ],
            "sizemode": "area",
            "sizeref": 5.81,
            "symbol": "circle"
           },
           "mode": "markers",
           "name": "pict=kevin",
           "showlegend": true,
           "type": "scatter",
           "x": [
            4.97778246544267
           ],
           "xaxis": "x",
           "y": [
            3.8327600987913018
           ],
           "yaxis": "y"
          },
          {
           "hoverlabel": {
            "namelength": 0
           },
           "hovertemplate": "<b>%{hovertext}</b><br><br>pict=angela<br>season=3<br>valence=%{x}<br>arousal=%{y}<br>freq=%{marker.size}",
           "hovertext": [
            "angela"
           ],
           "ids": [
            "angela"
           ],
           "legendgroup": "pict=angela",
           "marker": {
            "color": "#FF6692",
            "size": [
             243
            ],
            "sizemode": "area",
            "sizeref": 5.81,
            "symbol": "circle"
           },
           "mode": "markers",
           "name": "pict=angela",
           "showlegend": true,
           "type": "scatter",
           "x": [
            4.953125187356443
           ],
           "xaxis": "x",
           "y": [
            3.7895640034365554
           ],
           "yaxis": "y"
          },
          {
           "hoverlabel": {
            "namelength": 0
           },
           "hovertemplate": "<b>%{hovertext}</b><br><br>pict=oscar<br>season=3<br>valence=%{x}<br>arousal=%{y}<br>freq=%{marker.size}",
           "hovertext": [
            "oscar"
           ],
           "ids": [
            "oscar"
           ],
           "legendgroup": "pict=oscar",
           "marker": {
            "color": "#B6E880",
            "size": [
             72
            ],
            "sizemode": "area",
            "sizeref": 5.81,
            "symbol": "circle"
           },
           "mode": "markers",
           "name": "pict=oscar",
           "showlegend": true,
           "type": "scatter",
           "x": [
            5.298071732631902
           ],
           "xaxis": "x",
           "y": [
            4.094843110008679
           ],
           "yaxis": "y"
          },
          {
           "hoverlabel": {
            "namelength": 0
           },
           "hovertemplate": "<b>%{hovertext}</b><br><br>pict=erin<br>season=3<br>valence=%{x}<br>arousal=%{y}<br>freq=%{marker.size}",
           "hovertext": [
            "erin"
           ],
           "ids": [
            "erin"
           ],
           "legendgroup": "pict=erin",
           "marker": {
            "color": "#FF97FF",
            "size": [
             0
            ],
            "sizemode": "area",
            "sizeref": 5.81,
            "symbol": "circle"
           },
           "mode": "markers",
           "name": "pict=erin",
           "showlegend": true,
           "type": "scatter",
           "x": [
            null
           ],
           "xaxis": "x",
           "y": [
            null
           ],
           "yaxis": "y"
          },
          {
           "hoverlabel": {
            "namelength": 0
           },
           "hovertemplate": "<b>%{hovertext}</b><br><br>pict=ryan<br>season=3<br>valence=%{x}<br>arousal=%{y}<br>freq=%{marker.size}",
           "hovertext": [
            "ryan"
           ],
           "ids": [
            "ryan"
           ],
           "legendgroup": "pict=ryan",
           "marker": {
            "color": "#FECB52",
            "size": [
             197
            ],
            "sizemode": "area",
            "sizeref": 5.81,
            "symbol": "circle"
           },
           "mode": "markers",
           "name": "pict=ryan",
           "showlegend": true,
           "type": "scatter",
           "x": [
            4.679209469996132
           ],
           "xaxis": "x",
           "y": [
            3.6325279648584314
           ],
           "yaxis": "y"
          }
         ],
         "name": "3"
        },
        {
         "data": [
          {
           "hoverlabel": {
            "namelength": 0
           },
           "hovertemplate": "<b>%{hovertext}</b><br><br>pict=michael<br>season=4<br>valence=%{x}<br>arousal=%{y}<br>freq=%{marker.size}",
           "hovertext": [
            "michael"
           ],
           "ids": [
            "michael"
           ],
           "legendgroup": "pict=michael",
           "marker": {
            "color": "#636efa",
            "size": [
             1633
            ],
            "sizemode": "area",
            "sizeref": 5.81,
            "symbol": "circle"
           },
           "mode": "markers",
           "name": "pict=michael",
           "showlegend": true,
           "type": "scatter",
           "x": [
            5.020554974342356
           ],
           "xaxis": "x",
           "y": [
            3.860218915278064
           ],
           "yaxis": "y"
          },
          {
           "hoverlabel": {
            "namelength": 0
           },
           "hovertemplate": "<b>%{hovertext}</b><br><br>pict=dwight<br>season=4<br>valence=%{x}<br>arousal=%{y}<br>freq=%{marker.size}",
           "hovertext": [
            "dwight"
           ],
           "ids": [
            "dwight"
           ],
           "legendgroup": "pict=dwight",
           "marker": {
            "color": "#EF553B",
            "size": [
             547
            ],
            "sizemode": "area",
            "sizeref": 5.81,
            "symbol": "circle"
           },
           "mode": "markers",
           "name": "pict=dwight",
           "showlegend": true,
           "type": "scatter",
           "x": [
            4.778915886356828
           ],
           "xaxis": "x",
           "y": [
            3.6868711120280335
           ],
           "yaxis": "y"
          },
          {
           "hoverlabel": {
            "namelength": 0
           },
           "hovertemplate": "<b>%{hovertext}</b><br><br>pict=jim<br>season=4<br>valence=%{x}<br>arousal=%{y}<br>freq=%{marker.size}",
           "hovertext": [
            "jim"
           ],
           "ids": [
            "jim"
           ],
           "legendgroup": "pict=jim",
           "marker": {
            "color": "#00cc96",
            "size": [
             684
            ],
            "sizemode": "area",
            "sizeref": 5.81,
            "symbol": "circle"
           },
           "mode": "markers",
           "name": "pict=jim",
           "showlegend": true,
           "type": "scatter",
           "x": [
            4.616480357728034
           ],
           "xaxis": "x",
           "y": [
            3.549141915185285
           ],
           "yaxis": "y"
          },
          {
           "hoverlabel": {
            "namelength": 0
           },
           "hovertemplate": "<b>%{hovertext}</b><br><br>pict=pam<br>season=4<br>valence=%{x}<br>arousal=%{y}<br>freq=%{marker.size}",
           "hovertext": [
            "pam"
           ],
           "ids": [
            "pam"
           ],
           "legendgroup": "pict=pam",
           "marker": {
            "color": "#ab63fa",
            "size": [
             528
            ],
            "sizemode": "area",
            "sizeref": 5.81,
            "symbol": "circle"
           },
           "mode": "markers",
           "name": "pict=pam",
           "showlegend": true,
           "type": "scatter",
           "x": [
            4.567228459452432
           ],
           "xaxis": "x",
           "y": [
            3.451485103075178
           ],
           "yaxis": "y"
          },
          {
           "hoverlabel": {
            "namelength": 0
           },
           "hovertemplate": "<b>%{hovertext}</b><br><br>pict=andy<br>season=4<br>valence=%{x}<br>arousal=%{y}<br>freq=%{marker.size}",
           "hovertext": [
            "andy"
           ],
           "ids": [
            "andy"
           ],
           "legendgroup": "pict=andy",
           "marker": {
            "color": "#FFA15A",
            "size": [
             223
            ],
            "sizemode": "area",
            "sizeref": 5.81,
            "symbol": "circle"
           },
           "mode": "markers",
           "name": "pict=andy",
           "showlegend": true,
           "type": "scatter",
           "x": [
            5.138573808631016
           ],
           "xaxis": "x",
           "y": [
            3.8164257506050068
           ],
           "yaxis": "y"
          },
          {
           "hoverlabel": {
            "namelength": 0
           },
           "hovertemplate": "<b>%{hovertext}</b><br><br>pict=kevin<br>season=4<br>valence=%{x}<br>arousal=%{y}<br>freq=%{marker.size}",
           "hovertext": [
            "kevin"
           ],
           "ids": [
            "kevin"
           ],
           "legendgroup": "pict=kevin",
           "marker": {
            "color": "#19d3f3",
            "size": [
             141
            ],
            "sizemode": "area",
            "sizeref": 5.81,
            "symbol": "circle"
           },
           "mode": "markers",
           "name": "pict=kevin",
           "showlegend": true,
           "type": "scatter",
           "x": [
            4.26575291659843
           ],
           "xaxis": "x",
           "y": [
            3.4981926669646275
           ],
           "yaxis": "y"
          },
          {
           "hoverlabel": {
            "namelength": 0
           },
           "hovertemplate": "<b>%{hovertext}</b><br><br>pict=angela<br>season=4<br>valence=%{x}<br>arousal=%{y}<br>freq=%{marker.size}",
           "hovertext": [
            "angela"
           ],
           "ids": [
            "angela"
           ],
           "legendgroup": "pict=angela",
           "marker": {
            "color": "#FF6692",
            "size": [
             193
            ],
            "sizemode": "area",
            "sizeref": 5.81,
            "symbol": "circle"
           },
           "mode": "markers",
           "name": "pict=angela",
           "showlegend": true,
           "type": "scatter",
           "x": [
            4.4154503326138865
           ],
           "xaxis": "x",
           "y": [
            3.5638047083047635
           ],
           "yaxis": "y"
          },
          {
           "hoverlabel": {
            "namelength": 0
           },
           "hovertemplate": "<b>%{hovertext}</b><br><br>pict=oscar<br>season=4<br>valence=%{x}<br>arousal=%{y}<br>freq=%{marker.size}",
           "hovertext": [
            "oscar"
           ],
           "ids": [
            "oscar"
           ],
           "legendgroup": "pict=oscar",
           "marker": {
            "color": "#B6E880",
            "size": [
             111
            ],
            "sizemode": "area",
            "sizeref": 5.81,
            "symbol": "circle"
           },
           "mode": "markers",
           "name": "pict=oscar",
           "showlegend": true,
           "type": "scatter",
           "x": [
            4.970576434085902
           ],
           "xaxis": "x",
           "y": [
            3.7544317937462384
           ],
           "yaxis": "y"
          },
          {
           "hoverlabel": {
            "namelength": 0
           },
           "hovertemplate": "<b>%{hovertext}</b><br><br>pict=erin<br>season=4<br>valence=%{x}<br>arousal=%{y}<br>freq=%{marker.size}",
           "hovertext": [
            "erin"
           ],
           "ids": [
            "erin"
           ],
           "legendgroup": "pict=erin",
           "marker": {
            "color": "#FF97FF",
            "size": [
             0
            ],
            "sizemode": "area",
            "sizeref": 5.81,
            "symbol": "circle"
           },
           "mode": "markers",
           "name": "pict=erin",
           "showlegend": true,
           "type": "scatter",
           "x": [
            null
           ],
           "xaxis": "x",
           "y": [
            null
           ],
           "yaxis": "y"
          },
          {
           "hoverlabel": {
            "namelength": 0
           },
           "hovertemplate": "<b>%{hovertext}</b><br><br>pict=ryan<br>season=4<br>valence=%{x}<br>arousal=%{y}<br>freq=%{marker.size}",
           "hovertext": [
            "ryan"
           ],
           "ids": [
            "ryan"
           ],
           "legendgroup": "pict=ryan",
           "marker": {
            "color": "#FECB52",
            "size": [
             228
            ],
            "sizemode": "area",
            "sizeref": 5.81,
            "symbol": "circle"
           },
           "mode": "markers",
           "name": "pict=ryan",
           "showlegend": true,
           "type": "scatter",
           "x": [
            4.9408632408671656
           ],
           "xaxis": "x",
           "y": [
            3.6270058798948313
           ],
           "yaxis": "y"
          }
         ],
         "name": "4"
        },
        {
         "data": [
          {
           "hoverlabel": {
            "namelength": 0
           },
           "hovertemplate": "<b>%{hovertext}</b><br><br>pict=michael<br>season=5<br>valence=%{x}<br>arousal=%{y}<br>freq=%{marker.size}",
           "hovertext": [
            "michael"
           ],
           "ids": [
            "michael"
           ],
           "legendgroup": "pict=michael",
           "marker": {
            "color": "#636efa",
            "size": [
             2163
            ],
            "sizemode": "area",
            "sizeref": 5.81,
            "symbol": "circle"
           },
           "mode": "markers",
           "name": "pict=michael",
           "showlegend": true,
           "type": "scatter",
           "x": [
            4.9014474171833085
           ],
           "xaxis": "x",
           "y": [
            3.7172726980319735
           ],
           "yaxis": "y"
          },
          {
           "hoverlabel": {
            "namelength": 0
           },
           "hovertemplate": "<b>%{hovertext}</b><br><br>pict=dwight<br>season=5<br>valence=%{x}<br>arousal=%{y}<br>freq=%{marker.size}",
           "hovertext": [
            "dwight"
           ],
           "ids": [
            "dwight"
           ],
           "legendgroup": "pict=dwight",
           "marker": {
            "color": "#EF553B",
            "size": [
             1074
            ],
            "sizemode": "area",
            "sizeref": 5.81,
            "symbol": "circle"
           },
           "mode": "markers",
           "name": "pict=dwight",
           "showlegend": true,
           "type": "scatter",
           "x": [
            4.845033068046804
           ],
           "xaxis": "x",
           "y": [
            3.844167347954132
           ],
           "yaxis": "y"
          },
          {
           "hoverlabel": {
            "namelength": 0
           },
           "hovertemplate": "<b>%{hovertext}</b><br><br>pict=jim<br>season=5<br>valence=%{x}<br>arousal=%{y}<br>freq=%{marker.size}",
           "hovertext": [
            "jim"
           ],
           "ids": [
            "jim"
           ],
           "legendgroup": "pict=jim",
           "marker": {
            "color": "#00cc96",
            "size": [
             875
            ],
            "sizemode": "area",
            "sizeref": 5.81,
            "symbol": "circle"
           },
           "mode": "markers",
           "name": "pict=jim",
           "showlegend": true,
           "type": "scatter",
           "x": [
            4.7206651470094485
           ],
           "xaxis": "x",
           "y": [
            3.648320778428376
           ],
           "yaxis": "y"
          },
          {
           "hoverlabel": {
            "namelength": 0
           },
           "hovertemplate": "<b>%{hovertext}</b><br><br>pict=pam<br>season=5<br>valence=%{x}<br>arousal=%{y}<br>freq=%{marker.size}",
           "hovertext": [
            "pam"
           ],
           "ids": [
            "pam"
           ],
           "legendgroup": "pict=pam",
           "marker": {
            "color": "#ab63fa",
            "size": [
             706
            ],
            "sizemode": "area",
            "sizeref": 5.81,
            "symbol": "circle"
           },
           "mode": "markers",
           "name": "pict=pam",
           "showlegend": true,
           "type": "scatter",
           "x": [
            4.8569903299985135
           ],
           "xaxis": "x",
           "y": [
            3.6197523509687537
           ],
           "yaxis": "y"
          },
          {
           "hoverlabel": {
            "namelength": 0
           },
           "hovertemplate": "<b>%{hovertext}</b><br><br>pict=andy<br>season=5<br>valence=%{x}<br>arousal=%{y}<br>freq=%{marker.size}",
           "hovertext": [
            "andy"
           ],
           "ids": [
            "andy"
           ],
           "legendgroup": "pict=andy",
           "marker": {
            "color": "#FFA15A",
            "size": [
             497
            ],
            "sizemode": "area",
            "sizeref": 5.81,
            "symbol": "circle"
           },
           "mode": "markers",
           "name": "pict=andy",
           "showlegend": true,
           "type": "scatter",
           "x": [
            4.88652841295808
           ],
           "xaxis": "x",
           "y": [
            3.782045463792535
           ],
           "yaxis": "y"
          },
          {
           "hoverlabel": {
            "namelength": 0
           },
           "hovertemplate": "<b>%{hovertext}</b><br><br>pict=kevin<br>season=5<br>valence=%{x}<br>arousal=%{y}<br>freq=%{marker.size}",
           "hovertext": [
            "kevin"
           ],
           "ids": [
            "kevin"
           ],
           "legendgroup": "pict=kevin",
           "marker": {
            "color": "#19d3f3",
            "size": [
             187
            ],
            "sizemode": "area",
            "sizeref": 5.81,
            "symbol": "circle"
           },
           "mode": "markers",
           "name": "pict=kevin",
           "showlegend": true,
           "type": "scatter",
           "x": [
            5.1225718645340255
           ],
           "xaxis": "x",
           "y": [
            3.8975373186165387
           ],
           "yaxis": "y"
          },
          {
           "hoverlabel": {
            "namelength": 0
           },
           "hovertemplate": "<b>%{hovertext}</b><br><br>pict=angela<br>season=5<br>valence=%{x}<br>arousal=%{y}<br>freq=%{marker.size}",
           "hovertext": [
            "angela"
           ],
           "ids": [
            "angela"
           ],
           "legendgroup": "pict=angela",
           "marker": {
            "color": "#FF6692",
            "size": [
             221
            ],
            "sizemode": "area",
            "sizeref": 5.81,
            "symbol": "circle"
           },
           "mode": "markers",
           "name": "pict=angela",
           "showlegend": true,
           "type": "scatter",
           "x": [
            4.695946515992519
           ],
           "xaxis": "x",
           "y": [
            3.596837333959804
           ],
           "yaxis": "y"
          },
          {
           "hoverlabel": {
            "namelength": 0
           },
           "hovertemplate": "<b>%{hovertext}</b><br><br>pict=oscar<br>season=5<br>valence=%{x}<br>arousal=%{y}<br>freq=%{marker.size}",
           "hovertext": [
            "oscar"
           ],
           "ids": [
            "oscar"
           ],
           "legendgroup": "pict=oscar",
           "marker": {
            "color": "#B6E880",
            "size": [
             216
            ],
            "sizemode": "area",
            "sizeref": 5.81,
            "symbol": "circle"
           },
           "mode": "markers",
           "name": "pict=oscar",
           "showlegend": true,
           "type": "scatter",
           "x": [
            4.967389150092585
           ],
           "xaxis": "x",
           "y": [
            3.7355629427422516
           ],
           "yaxis": "y"
          },
          {
           "hoverlabel": {
            "namelength": 0
           },
           "hovertemplate": "<b>%{hovertext}</b><br><br>pict=erin<br>season=5<br>valence=%{x}<br>arousal=%{y}<br>freq=%{marker.size}",
           "hovertext": [
            "erin"
           ],
           "ids": [
            "erin"
           ],
           "legendgroup": "pict=erin",
           "marker": {
            "color": "#FF97FF",
            "size": [
             53
            ],
            "sizemode": "area",
            "sizeref": 5.81,
            "symbol": "circle"
           },
           "mode": "markers",
           "name": "pict=erin",
           "showlegend": true,
           "type": "scatter",
           "x": [
            4.682001952598563
           ],
           "xaxis": "x",
           "y": [
            3.4998526000072365
           ],
           "yaxis": "y"
          },
          {
           "hoverlabel": {
            "namelength": 0
           },
           "hovertemplate": "<b>%{hovertext}</b><br><br>pict=ryan<br>season=5<br>valence=%{x}<br>arousal=%{y}<br>freq=%{marker.size}",
           "hovertext": [
            "ryan"
           ],
           "ids": [
            "ryan"
           ],
           "legendgroup": "pict=ryan",
           "marker": {
            "color": "#FECB52",
            "size": [
             169
            ],
            "sizemode": "area",
            "sizeref": 5.81,
            "symbol": "circle"
           },
           "mode": "markers",
           "name": "pict=ryan",
           "showlegend": true,
           "type": "scatter",
           "x": [
            4.936027180519634
           ],
           "xaxis": "x",
           "y": [
            3.828074132234901
           ],
           "yaxis": "y"
          }
         ],
         "name": "5"
        },
        {
         "data": [
          {
           "hoverlabel": {
            "namelength": 0
           },
           "hovertemplate": "<b>%{hovertext}</b><br><br>pict=michael<br>season=6<br>valence=%{x}<br>arousal=%{y}<br>freq=%{marker.size}",
           "hovertext": [
            "michael"
           ],
           "ids": [
            "michael"
           ],
           "legendgroup": "pict=michael",
           "marker": {
            "color": "#636efa",
            "size": [
             1983
            ],
            "sizemode": "area",
            "sizeref": 5.81,
            "symbol": "circle"
           },
           "mode": "markers",
           "name": "pict=michael",
           "showlegend": true,
           "type": "scatter",
           "x": [
            4.901851892002941
           ],
           "xaxis": "x",
           "y": [
            3.7471737801900016
           ],
           "yaxis": "y"
          },
          {
           "hoverlabel": {
            "namelength": 0
           },
           "hovertemplate": "<b>%{hovertext}</b><br><br>pict=dwight<br>season=6<br>valence=%{x}<br>arousal=%{y}<br>freq=%{marker.size}",
           "hovertext": [
            "dwight"
           ],
           "ids": [
            "dwight"
           ],
           "legendgroup": "pict=dwight",
           "marker": {
            "color": "#EF553B",
            "size": [
             811
            ],
            "sizemode": "area",
            "sizeref": 5.81,
            "symbol": "circle"
           },
           "mode": "markers",
           "name": "pict=dwight",
           "showlegend": true,
           "type": "scatter",
           "x": [
            4.961536154240219
           ],
           "xaxis": "x",
           "y": [
            3.923033968378251
           ],
           "yaxis": "y"
          },
          {
           "hoverlabel": {
            "namelength": 0
           },
           "hovertemplate": "<b>%{hovertext}</b><br><br>pict=jim<br>season=6<br>valence=%{x}<br>arousal=%{y}<br>freq=%{marker.size}",
           "hovertext": [
            "jim"
           ],
           "ids": [
            "jim"
           ],
           "legendgroup": "pict=jim",
           "marker": {
            "color": "#00cc96",
            "size": [
             928
            ],
            "sizemode": "area",
            "sizeref": 5.81,
            "symbol": "circle"
           },
           "mode": "markers",
           "name": "pict=jim",
           "showlegend": true,
           "type": "scatter",
           "x": [
            4.723548022259676
           ],
           "xaxis": "x",
           "y": [
            3.5794221077715416
           ],
           "yaxis": "y"
          },
          {
           "hoverlabel": {
            "namelength": 0
           },
           "hovertemplate": "<b>%{hovertext}</b><br><br>pict=pam<br>season=6<br>valence=%{x}<br>arousal=%{y}<br>freq=%{marker.size}",
           "hovertext": [
            "pam"
           ],
           "ids": [
            "pam"
           ],
           "legendgroup": "pict=pam",
           "marker": {
            "color": "#ab63fa",
            "size": [
             706
            ],
            "sizemode": "area",
            "sizeref": 5.81,
            "symbol": "circle"
           },
           "mode": "markers",
           "name": "pict=pam",
           "showlegend": true,
           "type": "scatter",
           "x": [
            4.727651335315737
           ],
           "xaxis": "x",
           "y": [
            3.6317719486260183
           ],
           "yaxis": "y"
          },
          {
           "hoverlabel": {
            "namelength": 0
           },
           "hovertemplate": "<b>%{hovertext}</b><br><br>pict=andy<br>season=6<br>valence=%{x}<br>arousal=%{y}<br>freq=%{marker.size}",
           "hovertext": [
            "andy"
           ],
           "ids": [
            "andy"
           ],
           "legendgroup": "pict=andy",
           "marker": {
            "color": "#FFA15A",
            "size": [
             538
            ],
            "sizemode": "area",
            "sizeref": 5.81,
            "symbol": "circle"
           },
           "mode": "markers",
           "name": "pict=andy",
           "showlegend": true,
           "type": "scatter",
           "x": [
            5.089960177569277
           ],
           "xaxis": "x",
           "y": [
            3.9235014493134193
           ],
           "yaxis": "y"
          },
          {
           "hoverlabel": {
            "namelength": 0
           },
           "hovertemplate": "<b>%{hovertext}</b><br><br>pict=kevin<br>season=6<br>valence=%{x}<br>arousal=%{y}<br>freq=%{marker.size}",
           "hovertext": [
            "kevin"
           ],
           "ids": [
            "kevin"
           ],
           "legendgroup": "pict=kevin",
           "marker": {
            "color": "#19d3f3",
            "size": [
             228
            ],
            "sizemode": "area",
            "sizeref": 5.81,
            "symbol": "circle"
           },
           "mode": "markers",
           "name": "pict=kevin",
           "showlegend": true,
           "type": "scatter",
           "x": [
            4.608453309927348
           ],
           "xaxis": "x",
           "y": [
            3.6528409806018063
           ],
           "yaxis": "y"
          },
          {
           "hoverlabel": {
            "namelength": 0
           },
           "hovertemplate": "<b>%{hovertext}</b><br><br>pict=angela<br>season=6<br>valence=%{x}<br>arousal=%{y}<br>freq=%{marker.size}",
           "hovertext": [
            "angela"
           ],
           "ids": [
            "angela"
           ],
           "legendgroup": "pict=angela",
           "marker": {
            "color": "#FF6692",
            "size": [
             136
            ],
            "sizemode": "area",
            "sizeref": 5.81,
            "symbol": "circle"
           },
           "mode": "markers",
           "name": "pict=angela",
           "showlegend": true,
           "type": "scatter",
           "x": [
            4.553356473669855
           ],
           "xaxis": "x",
           "y": [
            3.694711342982037
           ],
           "yaxis": "y"
          },
          {
           "hoverlabel": {
            "namelength": 0
           },
           "hovertemplate": "<b>%{hovertext}</b><br><br>pict=oscar<br>season=6<br>valence=%{x}<br>arousal=%{y}<br>freq=%{marker.size}",
           "hovertext": [
            "oscar"
           ],
           "ids": [
            "oscar"
           ],
           "legendgroup": "pict=oscar",
           "marker": {
            "color": "#B6E880",
            "size": [
             177
            ],
            "sizemode": "area",
            "sizeref": 5.81,
            "symbol": "circle"
           },
           "mode": "markers",
           "name": "pict=oscar",
           "showlegend": true,
           "type": "scatter",
           "x": [
            4.802822239818762
           ],
           "xaxis": "x",
           "y": [
            3.7645677496423775
           ],
           "yaxis": "y"
          },
          {
           "hoverlabel": {
            "namelength": 0
           },
           "hovertemplate": "<b>%{hovertext}</b><br><br>pict=erin<br>season=6<br>valence=%{x}<br>arousal=%{y}<br>freq=%{marker.size}",
           "hovertext": [
            "erin"
           ],
           "ids": [
            "erin"
           ],
           "legendgroup": "pict=erin",
           "marker": {
            "color": "#FF97FF",
            "size": [
             298
            ],
            "sizemode": "area",
            "sizeref": 5.81,
            "symbol": "circle"
           },
           "mode": "markers",
           "name": "pict=erin",
           "showlegend": true,
           "type": "scatter",
           "x": [
            5.197338753557292
           ],
           "xaxis": "x",
           "y": [
            3.9435027162955736
           ],
           "yaxis": "y"
          },
          {
           "hoverlabel": {
            "namelength": 0
           },
           "hovertemplate": "<b>%{hovertext}</b><br><br>pict=ryan<br>season=6<br>valence=%{x}<br>arousal=%{y}<br>freq=%{marker.size}",
           "hovertext": [
            "ryan"
           ],
           "ids": [
            "ryan"
           ],
           "legendgroup": "pict=ryan",
           "marker": {
            "color": "#FECB52",
            "size": [
             125
            ],
            "sizemode": "area",
            "sizeref": 5.81,
            "symbol": "circle"
           },
           "mode": "markers",
           "name": "pict=ryan",
           "showlegend": true,
           "type": "scatter",
           "x": [
            4.606868809114388
           ],
           "xaxis": "x",
           "y": [
            3.684537005509717
           ],
           "yaxis": "y"
          }
         ],
         "name": "6"
        },
        {
         "data": [
          {
           "hoverlabel": {
            "namelength": 0
           },
           "hovertemplate": "<b>%{hovertext}</b><br><br>pict=michael<br>season=7<br>valence=%{x}<br>arousal=%{y}<br>freq=%{marker.size}",
           "hovertext": [
            "michael"
           ],
           "ids": [
            "michael"
           ],
           "legendgroup": "pict=michael",
           "marker": {
            "color": "#636efa",
            "size": [
             1401
            ],
            "sizemode": "area",
            "sizeref": 5.81,
            "symbol": "circle"
           },
           "mode": "markers",
           "name": "pict=michael",
           "showlegend": true,
           "type": "scatter",
           "x": [
            5.0823687600365615
           ],
           "xaxis": "x",
           "y": [
            3.9218848935537203
           ],
           "yaxis": "y"
          },
          {
           "hoverlabel": {
            "namelength": 0
           },
           "hovertemplate": "<b>%{hovertext}</b><br><br>pict=dwight<br>season=7<br>valence=%{x}<br>arousal=%{y}<br>freq=%{marker.size}",
           "hovertext": [
            "dwight"
           ],
           "ids": [
            "dwight"
           ],
           "legendgroup": "pict=dwight",
           "marker": {
            "color": "#EF553B",
            "size": [
             703
            ],
            "sizemode": "area",
            "sizeref": 5.81,
            "symbol": "circle"
           },
           "mode": "markers",
           "name": "pict=dwight",
           "showlegend": true,
           "type": "scatter",
           "x": [
            4.9079604993831065
           ],
           "xaxis": "x",
           "y": [
            3.85569941458049
           ],
           "yaxis": "y"
          },
          {
           "hoverlabel": {
            "namelength": 0
           },
           "hovertemplate": "<b>%{hovertext}</b><br><br>pict=jim<br>season=7<br>valence=%{x}<br>arousal=%{y}<br>freq=%{marker.size}",
           "hovertext": [
            "jim"
           ],
           "ids": [
            "jim"
           ],
           "legendgroup": "pict=jim",
           "marker": {
            "color": "#00cc96",
            "size": [
             687
            ],
            "sizemode": "area",
            "sizeref": 5.81,
            "symbol": "circle"
           },
           "mode": "markers",
           "name": "pict=jim",
           "showlegend": true,
           "type": "scatter",
           "x": [
            4.691772566802226
           ],
           "xaxis": "x",
           "y": [
            3.6306225785087913
           ],
           "yaxis": "y"
          },
          {
           "hoverlabel": {
            "namelength": 0
           },
           "hovertemplate": "<b>%{hovertext}</b><br><br>pict=pam<br>season=7<br>valence=%{x}<br>arousal=%{y}<br>freq=%{marker.size}",
           "hovertext": [
            "pam"
           ],
           "ids": [
            "pam"
           ],
           "legendgroup": "pict=pam",
           "marker": {
            "color": "#ab63fa",
            "size": [
             612
            ],
            "sizemode": "area",
            "sizeref": 5.81,
            "symbol": "circle"
           },
           "mode": "markers",
           "name": "pict=pam",
           "showlegend": true,
           "type": "scatter",
           "x": [
            5.092692231981942
           ],
           "xaxis": "x",
           "y": [
            3.9465332318171376
           ],
           "yaxis": "y"
          },
          {
           "hoverlabel": {
            "namelength": 0
           },
           "hovertemplate": "<b>%{hovertext}</b><br><br>pict=andy<br>season=7<br>valence=%{x}<br>arousal=%{y}<br>freq=%{marker.size}",
           "hovertext": [
            "andy"
           ],
           "ids": [
            "andy"
           ],
           "legendgroup": "pict=andy",
           "marker": {
            "color": "#FFA15A",
            "size": [
             557
            ],
            "sizemode": "area",
            "sizeref": 5.81,
            "symbol": "circle"
           },
           "mode": "markers",
           "name": "pict=andy",
           "showlegend": true,
           "type": "scatter",
           "x": [
            5.0094620767896485
           ],
           "xaxis": "x",
           "y": [
            3.8584417528686856
           ],
           "yaxis": "y"
          },
          {
           "hoverlabel": {
            "namelength": 0
           },
           "hovertemplate": "<b>%{hovertext}</b><br><br>pict=kevin<br>season=7<br>valence=%{x}<br>arousal=%{y}<br>freq=%{marker.size}",
           "hovertext": [
            "kevin"
           ],
           "ids": [
            "kevin"
           ],
           "legendgroup": "pict=kevin",
           "marker": {
            "color": "#19d3f3",
            "size": [
             240
            ],
            "sizemode": "area",
            "sizeref": 5.81,
            "symbol": "circle"
           },
           "mode": "markers",
           "name": "pict=kevin",
           "showlegend": true,
           "type": "scatter",
           "x": [
            5.113213402456446
           ],
           "xaxis": "x",
           "y": [
            3.994798750221477
           ],
           "yaxis": "y"
          },
          {
           "hoverlabel": {
            "namelength": 0
           },
           "hovertemplate": "<b>%{hovertext}</b><br><br>pict=angela<br>season=7<br>valence=%{x}<br>arousal=%{y}<br>freq=%{marker.size}",
           "hovertext": [
            "angela"
           ],
           "ids": [
            "angela"
           ],
           "legendgroup": "pict=angela",
           "marker": {
            "color": "#FF6692",
            "size": [
             161
            ],
            "sizemode": "area",
            "sizeref": 5.81,
            "symbol": "circle"
           },
           "mode": "markers",
           "name": "pict=angela",
           "showlegend": true,
           "type": "scatter",
           "x": [
            4.641208983751551
           ],
           "xaxis": "x",
           "y": [
            3.473678086329365
           ],
           "yaxis": "y"
          },
          {
           "hoverlabel": {
            "namelength": 0
           },
           "hovertemplate": "<b>%{hovertext}</b><br><br>pict=oscar<br>season=7<br>valence=%{x}<br>arousal=%{y}<br>freq=%{marker.size}",
           "hovertext": [
            "oscar"
           ],
           "ids": [
            "oscar"
           ],
           "legendgroup": "pict=oscar",
           "marker": {
            "color": "#B6E880",
            "size": [
             197
            ],
            "sizemode": "area",
            "sizeref": 5.81,
            "symbol": "circle"
           },
           "mode": "markers",
           "name": "pict=oscar",
           "showlegend": true,
           "type": "scatter",
           "x": [
            4.705598155162027
           ],
           "xaxis": "x",
           "y": [
            3.5796357233113016
           ],
           "yaxis": "y"
          },
          {
           "hoverlabel": {
            "namelength": 0
           },
           "hovertemplate": "<b>%{hovertext}</b><br><br>pict=erin<br>season=7<br>valence=%{x}<br>arousal=%{y}<br>freq=%{marker.size}",
           "hovertext": [
            "erin"
           ],
           "ids": [
            "erin"
           ],
           "legendgroup": "pict=erin",
           "marker": {
            "color": "#FF97FF",
            "size": [
             311
            ],
            "sizemode": "area",
            "sizeref": 5.81,
            "symbol": "circle"
           },
           "mode": "markers",
           "name": "pict=erin",
           "showlegend": true,
           "type": "scatter",
           "x": [
            4.954675045072039
           ],
           "xaxis": "x",
           "y": [
            3.879756250923387
           ],
           "yaxis": "y"
          },
          {
           "hoverlabel": {
            "namelength": 0
           },
           "hovertemplate": "<b>%{hovertext}</b><br><br>pict=ryan<br>season=7<br>valence=%{x}<br>arousal=%{y}<br>freq=%{marker.size}",
           "hovertext": [
            "ryan"
           ],
           "ids": [
            "ryan"
           ],
           "legendgroup": "pict=ryan",
           "marker": {
            "color": "#FECB52",
            "size": [
             176
            ],
            "sizemode": "area",
            "sizeref": 5.81,
            "symbol": "circle"
           },
           "mode": "markers",
           "name": "pict=ryan",
           "showlegend": true,
           "type": "scatter",
           "x": [
            5.157059697884699
           ],
           "xaxis": "x",
           "y": [
            4.012270264571849
           ],
           "yaxis": "y"
          }
         ],
         "name": "7"
        },
        {
         "data": [
          {
           "hoverlabel": {
            "namelength": 0
           },
           "hovertemplate": "<b>%{hovertext}</b><br><br>pict=michael<br>season=8<br>valence=%{x}<br>arousal=%{y}<br>freq=%{marker.size}",
           "hovertext": [
            "michael"
           ],
           "ids": [
            "michael"
           ],
           "legendgroup": "pict=michael",
           "marker": {
            "color": "#636efa",
            "size": [
             0
            ],
            "sizemode": "area",
            "sizeref": 5.81,
            "symbol": "circle"
           },
           "mode": "markers",
           "name": "pict=michael",
           "showlegend": true,
           "type": "scatter",
           "x": [
            null
           ],
           "xaxis": "x",
           "y": [
            null
           ],
           "yaxis": "y"
          },
          {
           "hoverlabel": {
            "namelength": 0
           },
           "hovertemplate": "<b>%{hovertext}</b><br><br>pict=dwight<br>season=8<br>valence=%{x}<br>arousal=%{y}<br>freq=%{marker.size}",
           "hovertext": [
            "dwight"
           ],
           "ids": [
            "dwight"
           ],
           "legendgroup": "pict=dwight",
           "marker": {
            "color": "#EF553B",
            "size": [
             946
            ],
            "sizemode": "area",
            "sizeref": 5.81,
            "symbol": "circle"
           },
           "mode": "markers",
           "name": "pict=dwight",
           "showlegend": true,
           "type": "scatter",
           "x": [
            4.910026491301876
           ],
           "xaxis": "x",
           "y": [
            3.902589659485572
           ],
           "yaxis": "y"
          },
          {
           "hoverlabel": {
            "namelength": 0
           },
           "hovertemplate": "<b>%{hovertext}</b><br><br>pict=jim<br>season=8<br>valence=%{x}<br>arousal=%{y}<br>freq=%{marker.size}",
           "hovertext": [
            "jim"
           ],
           "ids": [
            "jim"
           ],
           "legendgroup": "pict=jim",
           "marker": {
            "color": "#00cc96",
            "size": [
             869
            ],
            "sizemode": "area",
            "sizeref": 5.81,
            "symbol": "circle"
           },
           "mode": "markers",
           "name": "pict=jim",
           "showlegend": true,
           "type": "scatter",
           "x": [
            4.725031440236227
           ],
           "xaxis": "x",
           "y": [
            3.6395396283427615
           ],
           "yaxis": "y"
          },
          {
           "hoverlabel": {
            "namelength": 0
           },
           "hovertemplate": "<b>%{hovertext}</b><br><br>pict=pam<br>season=8<br>valence=%{x}<br>arousal=%{y}<br>freq=%{marker.size}",
           "hovertext": [
            "pam"
           ],
           "ids": [
            "pam"
           ],
           "legendgroup": "pict=pam",
           "marker": {
            "color": "#ab63fa",
            "size": [
             475
            ],
            "sizemode": "area",
            "sizeref": 5.81,
            "symbol": "circle"
           },
           "mode": "markers",
           "name": "pict=pam",
           "showlegend": true,
           "type": "scatter",
           "x": [
            4.975507904695254
           ],
           "xaxis": "x",
           "y": [
            3.814595697620199
           ],
           "yaxis": "y"
          },
          {
           "hoverlabel": {
            "namelength": 0
           },
           "hovertemplate": "<b>%{hovertext}</b><br><br>pict=andy<br>season=8<br>valence=%{x}<br>arousal=%{y}<br>freq=%{marker.size}",
           "hovertext": [
            "andy"
           ],
           "ids": [
            "andy"
           ],
           "legendgroup": "pict=andy",
           "marker": {
            "color": "#FFA15A",
            "size": [
             1125
            ],
            "sizemode": "area",
            "sizeref": 5.81,
            "symbol": "circle"
           },
           "mode": "markers",
           "name": "pict=andy",
           "showlegend": true,
           "type": "scatter",
           "x": [
            5.0517805848463455
           ],
           "xaxis": "x",
           "y": [
            3.853500697949682
           ],
           "yaxis": "y"
          },
          {
           "hoverlabel": {
            "namelength": 0
           },
           "hovertemplate": "<b>%{hovertext}</b><br><br>pict=kevin<br>season=8<br>valence=%{x}<br>arousal=%{y}<br>freq=%{marker.size}",
           "hovertext": [
            "kevin"
           ],
           "ids": [
            "kevin"
           ],
           "legendgroup": "pict=kevin",
           "marker": {
            "color": "#19d3f3",
            "size": [
             247
            ],
            "sizemode": "area",
            "sizeref": 5.81,
            "symbol": "circle"
           },
           "mode": "markers",
           "name": "pict=kevin",
           "showlegend": true,
           "type": "scatter",
           "x": [
            4.776248838950341
           ],
           "xaxis": "x",
           "y": [
            3.7178640216380767
           ],
           "yaxis": "y"
          },
          {
           "hoverlabel": {
            "namelength": 0
           },
           "hovertemplate": "<b>%{hovertext}</b><br><br>pict=angela<br>season=8<br>valence=%{x}<br>arousal=%{y}<br>freq=%{marker.size}",
           "hovertext": [
            "angela"
           ],
           "ids": [
            "angela"
           ],
           "legendgroup": "pict=angela",
           "marker": {
            "color": "#FF6692",
            "size": [
             166
            ],
            "sizemode": "area",
            "sizeref": 5.81,
            "symbol": "circle"
           },
           "mode": "markers",
           "name": "pict=angela",
           "showlegend": true,
           "type": "scatter",
           "x": [
            4.8324244280999675
           ],
           "xaxis": "x",
           "y": [
            3.683517073588217
           ],
           "yaxis": "y"
          },
          {
           "hoverlabel": {
            "namelength": 0
           },
           "hovertemplate": "<b>%{hovertext}</b><br><br>pict=oscar<br>season=8<br>valence=%{x}<br>arousal=%{y}<br>freq=%{marker.size}",
           "hovertext": [
            "oscar"
           ],
           "ids": [
            "oscar"
           ],
           "legendgroup": "pict=oscar",
           "marker": {
            "color": "#B6E880",
            "size": [
             235
            ],
            "sizemode": "area",
            "sizeref": 5.81,
            "symbol": "circle"
           },
           "mode": "markers",
           "name": "pict=oscar",
           "showlegend": true,
           "type": "scatter",
           "x": [
            4.637613598169682
           ],
           "xaxis": "x",
           "y": [
            3.5936327087741025
           ],
           "yaxis": "y"
          },
          {
           "hoverlabel": {
            "namelength": 0
           },
           "hovertemplate": "<b>%{hovertext}</b><br><br>pict=erin<br>season=8<br>valence=%{x}<br>arousal=%{y}<br>freq=%{marker.size}",
           "hovertext": [
            "erin"
           ],
           "ids": [
            "erin"
           ],
           "legendgroup": "pict=erin",
           "marker": {
            "color": "#FF97FF",
            "size": [
             427
            ],
            "sizemode": "area",
            "sizeref": 5.81,
            "symbol": "circle"
           },
           "mode": "markers",
           "name": "pict=erin",
           "showlegend": true,
           "type": "scatter",
           "x": [
            4.8977497554926686
           ],
           "xaxis": "x",
           "y": [
            3.8126924078233664
           ],
           "yaxis": "y"
          },
          {
           "hoverlabel": {
            "namelength": 0
           },
           "hovertemplate": "<b>%{hovertext}</b><br><br>pict=ryan<br>season=8<br>valence=%{x}<br>arousal=%{y}<br>freq=%{marker.size}",
           "hovertext": [
            "ryan"
           ],
           "ids": [
            "ryan"
           ],
           "legendgroup": "pict=ryan",
           "marker": {
            "color": "#FECB52",
            "size": [
             189
            ],
            "sizemode": "area",
            "sizeref": 5.81,
            "symbol": "circle"
           },
           "mode": "markers",
           "name": "pict=ryan",
           "showlegend": true,
           "type": "scatter",
           "x": [
            5.112817495136543
           ],
           "xaxis": "x",
           "y": [
            3.880402045392188
           ],
           "yaxis": "y"
          }
         ],
         "name": "8"
        },
        {
         "data": [
          {
           "hoverlabel": {
            "namelength": 0
           },
           "hovertemplate": "<b>%{hovertext}</b><br><br>pict=michael<br>season=9<br>valence=%{x}<br>arousal=%{y}<br>freq=%{marker.size}",
           "hovertext": [
            "michael"
           ],
           "ids": [
            "michael"
           ],
           "legendgroup": "pict=michael",
           "marker": {
            "color": "#636efa",
            "size": [
             2
            ],
            "sizemode": "area",
            "sizeref": 5.81,
            "symbol": "circle"
           },
           "mode": "markers",
           "name": "pict=michael",
           "showlegend": true,
           "type": "scatter",
           "x": [
            2.9020427126666184
           ],
           "xaxis": "x",
           "y": [
            2.5281777406667407
           ],
           "yaxis": "y"
          },
          {
           "hoverlabel": {
            "namelength": 0
           },
           "hovertemplate": "<b>%{hovertext}</b><br><br>pict=dwight<br>season=9<br>valence=%{x}<br>arousal=%{y}<br>freq=%{marker.size}",
           "hovertext": [
            "dwight"
           ],
           "ids": [
            "dwight"
           ],
           "legendgroup": "pict=dwight",
           "marker": {
            "color": "#EF553B",
            "size": [
             1069
            ],
            "sizemode": "area",
            "sizeref": 5.81,
            "symbol": "circle"
           },
           "mode": "markers",
           "name": "pict=dwight",
           "showlegend": true,
           "type": "scatter",
           "x": [
            5.065923113406958
           ],
           "xaxis": "x",
           "y": [
            3.9132716571133197
           ],
           "yaxis": "y"
          },
          {
           "hoverlabel": {
            "namelength": 0
           },
           "hovertemplate": "<b>%{hovertext}</b><br><br>pict=jim<br>season=9<br>valence=%{x}<br>arousal=%{y}<br>freq=%{marker.size}",
           "hovertext": [
            "jim"
           ],
           "ids": [
            "jim"
           ],
           "legendgroup": "pict=jim",
           "marker": {
            "color": "#00cc96",
            "size": [
             798
            ],
            "sizemode": "area",
            "sizeref": 5.81,
            "symbol": "circle"
           },
           "mode": "markers",
           "name": "pict=jim",
           "showlegend": true,
           "type": "scatter",
           "x": [
            5.182491367480597
           ],
           "xaxis": "x",
           "y": [
            3.941145979159101
           ],
           "yaxis": "y"
          },
          {
           "hoverlabel": {
            "namelength": 0
           },
           "hovertemplate": "<b>%{hovertext}</b><br><br>pict=pam<br>season=9<br>valence=%{x}<br>arousal=%{y}<br>freq=%{marker.size}",
           "hovertext": [
            "pam"
           ],
           "ids": [
            "pam"
           ],
           "legendgroup": "pict=pam",
           "marker": {
            "color": "#ab63fa",
            "size": [
             735
            ],
            "sizemode": "area",
            "sizeref": 5.81,
            "symbol": "circle"
           },
           "mode": "markers",
           "name": "pict=pam",
           "showlegend": true,
           "type": "scatter",
           "x": [
            4.925676365795682
           ],
           "xaxis": "x",
           "y": [
            3.730372876138589
           ],
           "yaxis": "y"
          },
          {
           "hoverlabel": {
            "namelength": 0
           },
           "hovertemplate": "<b>%{hovertext}</b><br><br>pict=andy<br>season=9<br>valence=%{x}<br>arousal=%{y}<br>freq=%{marker.size}",
           "hovertext": [
            "andy"
           ],
           "ids": [
            "andy"
           ],
           "legendgroup": "pict=andy",
           "marker": {
            "color": "#FFA15A",
            "size": [
             637
            ],
            "sizemode": "area",
            "sizeref": 5.81,
            "symbol": "circle"
           },
           "mode": "markers",
           "name": "pict=andy",
           "showlegend": true,
           "type": "scatter",
           "x": [
            5.073221762240042
           ],
           "xaxis": "x",
           "y": [
            3.985951848585852
           ],
           "yaxis": "y"
          },
          {
           "hoverlabel": {
            "namelength": 0
           },
           "hovertemplate": "<b>%{hovertext}</b><br><br>pict=kevin<br>season=9<br>valence=%{x}<br>arousal=%{y}<br>freq=%{marker.size}",
           "hovertext": [
            "kevin"
           ],
           "ids": [
            "kevin"
           ],
           "legendgroup": "pict=kevin",
           "marker": {
            "color": "#19d3f3",
            "size": [
             266
            ],
            "sizemode": "area",
            "sizeref": 5.81,
            "symbol": "circle"
           },
           "mode": "markers",
           "name": "pict=kevin",
           "showlegend": true,
           "type": "scatter",
           "x": [
            4.706483029831968
           ],
           "xaxis": "x",
           "y": [
            3.699739385304668
           ],
           "yaxis": "y"
          },
          {
           "hoverlabel": {
            "namelength": 0
           },
           "hovertemplate": "<b>%{hovertext}</b><br><br>pict=angela<br>season=9<br>valence=%{x}<br>arousal=%{y}<br>freq=%{marker.size}",
           "hovertext": [
            "angela"
           ],
           "ids": [
            "angela"
           ],
           "legendgroup": "pict=angela",
           "marker": {
            "color": "#FF6692",
            "size": [
             381
            ],
            "sizemode": "area",
            "sizeref": 5.81,
            "symbol": "circle"
           },
           "mode": "markers",
           "name": "pict=angela",
           "showlegend": true,
           "type": "scatter",
           "x": [
            4.652180596149964
           ],
           "xaxis": "x",
           "y": [
            3.6097080819867178
           ],
           "yaxis": "y"
          },
          {
           "hoverlabel": {
            "namelength": 0
           },
           "hovertemplate": "<b>%{hovertext}</b><br><br>pict=oscar<br>season=9<br>valence=%{x}<br>arousal=%{y}<br>freq=%{marker.size}",
           "hovertext": [
            "oscar"
           ],
           "ids": [
            "oscar"
           ],
           "legendgroup": "pict=oscar",
           "marker": {
            "color": "#B6E880",
            "size": [
             294
            ],
            "sizemode": "area",
            "sizeref": 5.81,
            "symbol": "circle"
           },
           "mode": "markers",
           "name": "pict=oscar",
           "showlegend": true,
           "type": "scatter",
           "x": [
            4.7262713591539836
           ],
           "xaxis": "x",
           "y": [
            3.6601064124024534
           ],
           "yaxis": "y"
          },
          {
           "hoverlabel": {
            "namelength": 0
           },
           "hovertemplate": "<b>%{hovertext}</b><br><br>pict=erin<br>season=9<br>valence=%{x}<br>arousal=%{y}<br>freq=%{marker.size}",
           "hovertext": [
            "erin"
           ],
           "ids": [
            "erin"
           ],
           "legendgroup": "pict=erin",
           "marker": {
            "color": "#FF97FF",
            "size": [
             380
            ],
            "sizemode": "area",
            "sizeref": 5.81,
            "symbol": "circle"
           },
           "mode": "markers",
           "name": "pict=erin",
           "showlegend": true,
           "type": "scatter",
           "x": [
            4.567832213179468
           ],
           "xaxis": "x",
           "y": [
            3.6156267673026763
           ],
           "yaxis": "y"
          },
          {
           "hoverlabel": {
            "namelength": 0
           },
           "hovertemplate": "<b>%{hovertext}</b><br><br>pict=ryan<br>season=9<br>valence=%{x}<br>arousal=%{y}<br>freq=%{marker.size}",
           "hovertext": [
            "ryan"
           ],
           "ids": [
            "ryan"
           ],
           "legendgroup": "pict=ryan",
           "marker": {
            "color": "#FECB52",
            "size": [
             16
            ],
            "sizemode": "area",
            "sizeref": 5.81,
            "symbol": "circle"
           },
           "mode": "markers",
           "name": "pict=ryan",
           "showlegend": true,
           "type": "scatter",
           "x": [
            4.710993865386958
           ],
           "xaxis": "x",
           "y": [
            3.290108284318612
           ],
           "yaxis": "y"
          }
         ],
         "name": "9"
        }
       ],
       "layout": {
        "height": 600,
        "legend": {
         "itemsizing": "constant",
         "tracegroupgap": 0
        },
        "margin": {
         "t": 60
        },
        "sliders": [
         {
          "active": 0,
          "currentvalue": {
           "prefix": "season="
          },
          "len": 0.9,
          "pad": {
           "b": 10,
           "t": 60
          },
          "steps": [
           {
            "args": [
             [
              "1"
             ],
             {
              "frame": {
               "duration": 0,
               "redraw": false
              },
              "fromcurrent": true,
              "mode": "immediate",
              "transition": {
               "duration": 0,
               "easing": "linear"
              }
             }
            ],
            "label": "1",
            "method": "animate"
           },
           {
            "args": [
             [
              "2"
             ],
             {
              "frame": {
               "duration": 0,
               "redraw": false
              },
              "fromcurrent": true,
              "mode": "immediate",
              "transition": {
               "duration": 0,
               "easing": "linear"
              }
             }
            ],
            "label": "2",
            "method": "animate"
           },
           {
            "args": [
             [
              "3"
             ],
             {
              "frame": {
               "duration": 0,
               "redraw": false
              },
              "fromcurrent": true,
              "mode": "immediate",
              "transition": {
               "duration": 0,
               "easing": "linear"
              }
             }
            ],
            "label": "3",
            "method": "animate"
           },
           {
            "args": [
             [
              "4"
             ],
             {
              "frame": {
               "duration": 0,
               "redraw": false
              },
              "fromcurrent": true,
              "mode": "immediate",
              "transition": {
               "duration": 0,
               "easing": "linear"
              }
             }
            ],
            "label": "4",
            "method": "animate"
           },
           {
            "args": [
             [
              "5"
             ],
             {
              "frame": {
               "duration": 0,
               "redraw": false
              },
              "fromcurrent": true,
              "mode": "immediate",
              "transition": {
               "duration": 0,
               "easing": "linear"
              }
             }
            ],
            "label": "5",
            "method": "animate"
           },
           {
            "args": [
             [
              "6"
             ],
             {
              "frame": {
               "duration": 0,
               "redraw": false
              },
              "fromcurrent": true,
              "mode": "immediate",
              "transition": {
               "duration": 0,
               "easing": "linear"
              }
             }
            ],
            "label": "6",
            "method": "animate"
           },
           {
            "args": [
             [
              "7"
             ],
             {
              "frame": {
               "duration": 0,
               "redraw": false
              },
              "fromcurrent": true,
              "mode": "immediate",
              "transition": {
               "duration": 0,
               "easing": "linear"
              }
             }
            ],
            "label": "7",
            "method": "animate"
           },
           {
            "args": [
             [
              "8"
             ],
             {
              "frame": {
               "duration": 0,
               "redraw": false
              },
              "fromcurrent": true,
              "mode": "immediate",
              "transition": {
               "duration": 0,
               "easing": "linear"
              }
             }
            ],
            "label": "8",
            "method": "animate"
           },
           {
            "args": [
             [
              "9"
             ],
             {
              "frame": {
               "duration": 0,
               "redraw": false
              },
              "fromcurrent": true,
              "mode": "immediate",
              "transition": {
               "duration": 0,
               "easing": "linear"
              }
             }
            ],
            "label": "9",
            "method": "animate"
           }
          ],
          "x": 0.1,
          "xanchor": "left",
          "y": 0,
          "yanchor": "top"
         }
        ],
        "template": {
         "data": {
          "bar": [
           {
            "error_x": {
             "color": "#2a3f5f"
            },
            "error_y": {
             "color": "#2a3f5f"
            },
            "marker": {
             "line": {
              "color": "#E5ECF6",
              "width": 0.5
             }
            },
            "type": "bar"
           }
          ],
          "barpolar": [
           {
            "marker": {
             "line": {
              "color": "#E5ECF6",
              "width": 0.5
             }
            },
            "type": "barpolar"
           }
          ],
          "carpet": [
           {
            "aaxis": {
             "endlinecolor": "#2a3f5f",
             "gridcolor": "white",
             "linecolor": "white",
             "minorgridcolor": "white",
             "startlinecolor": "#2a3f5f"
            },
            "baxis": {
             "endlinecolor": "#2a3f5f",
             "gridcolor": "white",
             "linecolor": "white",
             "minorgridcolor": "white",
             "startlinecolor": "#2a3f5f"
            },
            "type": "carpet"
           }
          ],
          "choropleth": [
           {
            "colorbar": {
             "outlinewidth": 0,
             "ticks": ""
            },
            "type": "choropleth"
           }
          ],
          "contour": [
           {
            "colorbar": {
             "outlinewidth": 0,
             "ticks": ""
            },
            "colorscale": [
             [
              0,
              "#0d0887"
             ],
             [
              0.1111111111111111,
              "#46039f"
             ],
             [
              0.2222222222222222,
              "#7201a8"
             ],
             [
              0.3333333333333333,
              "#9c179e"
             ],
             [
              0.4444444444444444,
              "#bd3786"
             ],
             [
              0.5555555555555556,
              "#d8576b"
             ],
             [
              0.6666666666666666,
              "#ed7953"
             ],
             [
              0.7777777777777778,
              "#fb9f3a"
             ],
             [
              0.8888888888888888,
              "#fdca26"
             ],
             [
              1,
              "#f0f921"
             ]
            ],
            "type": "contour"
           }
          ],
          "contourcarpet": [
           {
            "colorbar": {
             "outlinewidth": 0,
             "ticks": ""
            },
            "type": "contourcarpet"
           }
          ],
          "heatmap": [
           {
            "colorbar": {
             "outlinewidth": 0,
             "ticks": ""
            },
            "colorscale": [
             [
              0,
              "#0d0887"
             ],
             [
              0.1111111111111111,
              "#46039f"
             ],
             [
              0.2222222222222222,
              "#7201a8"
             ],
             [
              0.3333333333333333,
              "#9c179e"
             ],
             [
              0.4444444444444444,
              "#bd3786"
             ],
             [
              0.5555555555555556,
              "#d8576b"
             ],
             [
              0.6666666666666666,
              "#ed7953"
             ],
             [
              0.7777777777777778,
              "#fb9f3a"
             ],
             [
              0.8888888888888888,
              "#fdca26"
             ],
             [
              1,
              "#f0f921"
             ]
            ],
            "type": "heatmap"
           }
          ],
          "heatmapgl": [
           {
            "colorbar": {
             "outlinewidth": 0,
             "ticks": ""
            },
            "colorscale": [
             [
              0,
              "#0d0887"
             ],
             [
              0.1111111111111111,
              "#46039f"
             ],
             [
              0.2222222222222222,
              "#7201a8"
             ],
             [
              0.3333333333333333,
              "#9c179e"
             ],
             [
              0.4444444444444444,
              "#bd3786"
             ],
             [
              0.5555555555555556,
              "#d8576b"
             ],
             [
              0.6666666666666666,
              "#ed7953"
             ],
             [
              0.7777777777777778,
              "#fb9f3a"
             ],
             [
              0.8888888888888888,
              "#fdca26"
             ],
             [
              1,
              "#f0f921"
             ]
            ],
            "type": "heatmapgl"
           }
          ],
          "histogram": [
           {
            "marker": {
             "colorbar": {
              "outlinewidth": 0,
              "ticks": ""
             }
            },
            "type": "histogram"
           }
          ],
          "histogram2d": [
           {
            "colorbar": {
             "outlinewidth": 0,
             "ticks": ""
            },
            "colorscale": [
             [
              0,
              "#0d0887"
             ],
             [
              0.1111111111111111,
              "#46039f"
             ],
             [
              0.2222222222222222,
              "#7201a8"
             ],
             [
              0.3333333333333333,
              "#9c179e"
             ],
             [
              0.4444444444444444,
              "#bd3786"
             ],
             [
              0.5555555555555556,
              "#d8576b"
             ],
             [
              0.6666666666666666,
              "#ed7953"
             ],
             [
              0.7777777777777778,
              "#fb9f3a"
             ],
             [
              0.8888888888888888,
              "#fdca26"
             ],
             [
              1,
              "#f0f921"
             ]
            ],
            "type": "histogram2d"
           }
          ],
          "histogram2dcontour": [
           {
            "colorbar": {
             "outlinewidth": 0,
             "ticks": ""
            },
            "colorscale": [
             [
              0,
              "#0d0887"
             ],
             [
              0.1111111111111111,
              "#46039f"
             ],
             [
              0.2222222222222222,
              "#7201a8"
             ],
             [
              0.3333333333333333,
              "#9c179e"
             ],
             [
              0.4444444444444444,
              "#bd3786"
             ],
             [
              0.5555555555555556,
              "#d8576b"
             ],
             [
              0.6666666666666666,
              "#ed7953"
             ],
             [
              0.7777777777777778,
              "#fb9f3a"
             ],
             [
              0.8888888888888888,
              "#fdca26"
             ],
             [
              1,
              "#f0f921"
             ]
            ],
            "type": "histogram2dcontour"
           }
          ],
          "mesh3d": [
           {
            "colorbar": {
             "outlinewidth": 0,
             "ticks": ""
            },
            "type": "mesh3d"
           }
          ],
          "parcoords": [
           {
            "line": {
             "colorbar": {
              "outlinewidth": 0,
              "ticks": ""
             }
            },
            "type": "parcoords"
           }
          ],
          "scatter": [
           {
            "marker": {
             "colorbar": {
              "outlinewidth": 0,
              "ticks": ""
             }
            },
            "type": "scatter"
           }
          ],
          "scatter3d": [
           {
            "line": {
             "colorbar": {
              "outlinewidth": 0,
              "ticks": ""
             }
            },
            "marker": {
             "colorbar": {
              "outlinewidth": 0,
              "ticks": ""
             }
            },
            "type": "scatter3d"
           }
          ],
          "scattercarpet": [
           {
            "marker": {
             "colorbar": {
              "outlinewidth": 0,
              "ticks": ""
             }
            },
            "type": "scattercarpet"
           }
          ],
          "scattergeo": [
           {
            "marker": {
             "colorbar": {
              "outlinewidth": 0,
              "ticks": ""
             }
            },
            "type": "scattergeo"
           }
          ],
          "scattergl": [
           {
            "marker": {
             "colorbar": {
              "outlinewidth": 0,
              "ticks": ""
             }
            },
            "type": "scattergl"
           }
          ],
          "scattermapbox": [
           {
            "marker": {
             "colorbar": {
              "outlinewidth": 0,
              "ticks": ""
             }
            },
            "type": "scattermapbox"
           }
          ],
          "scatterpolar": [
           {
            "marker": {
             "colorbar": {
              "outlinewidth": 0,
              "ticks": ""
             }
            },
            "type": "scatterpolar"
           }
          ],
          "scatterpolargl": [
           {
            "marker": {
             "colorbar": {
              "outlinewidth": 0,
              "ticks": ""
             }
            },
            "type": "scatterpolargl"
           }
          ],
          "scatterternary": [
           {
            "marker": {
             "colorbar": {
              "outlinewidth": 0,
              "ticks": ""
             }
            },
            "type": "scatterternary"
           }
          ],
          "surface": [
           {
            "colorbar": {
             "outlinewidth": 0,
             "ticks": ""
            },
            "colorscale": [
             [
              0,
              "#0d0887"
             ],
             [
              0.1111111111111111,
              "#46039f"
             ],
             [
              0.2222222222222222,
              "#7201a8"
             ],
             [
              0.3333333333333333,
              "#9c179e"
             ],
             [
              0.4444444444444444,
              "#bd3786"
             ],
             [
              0.5555555555555556,
              "#d8576b"
             ],
             [
              0.6666666666666666,
              "#ed7953"
             ],
             [
              0.7777777777777778,
              "#fb9f3a"
             ],
             [
              0.8888888888888888,
              "#fdca26"
             ],
             [
              1,
              "#f0f921"
             ]
            ],
            "type": "surface"
           }
          ],
          "table": [
           {
            "cells": {
             "fill": {
              "color": "#EBF0F8"
             },
             "line": {
              "color": "white"
             }
            },
            "header": {
             "fill": {
              "color": "#C8D4E3"
             },
             "line": {
              "color": "white"
             }
            },
            "type": "table"
           }
          ]
         },
         "layout": {
          "annotationdefaults": {
           "arrowcolor": "#2a3f5f",
           "arrowhead": 0,
           "arrowwidth": 1
          },
          "colorscale": {
           "diverging": [
            [
             0,
             "#8e0152"
            ],
            [
             0.1,
             "#c51b7d"
            ],
            [
             0.2,
             "#de77ae"
            ],
            [
             0.3,
             "#f1b6da"
            ],
            [
             0.4,
             "#fde0ef"
            ],
            [
             0.5,
             "#f7f7f7"
            ],
            [
             0.6,
             "#e6f5d0"
            ],
            [
             0.7,
             "#b8e186"
            ],
            [
             0.8,
             "#7fbc41"
            ],
            [
             0.9,
             "#4d9221"
            ],
            [
             1,
             "#276419"
            ]
           ],
           "sequential": [
            [
             0,
             "#0d0887"
            ],
            [
             0.1111111111111111,
             "#46039f"
            ],
            [
             0.2222222222222222,
             "#7201a8"
            ],
            [
             0.3333333333333333,
             "#9c179e"
            ],
            [
             0.4444444444444444,
             "#bd3786"
            ],
            [
             0.5555555555555556,
             "#d8576b"
            ],
            [
             0.6666666666666666,
             "#ed7953"
            ],
            [
             0.7777777777777778,
             "#fb9f3a"
            ],
            [
             0.8888888888888888,
             "#fdca26"
            ],
            [
             1,
             "#f0f921"
            ]
           ],
           "sequentialminus": [
            [
             0,
             "#0d0887"
            ],
            [
             0.1111111111111111,
             "#46039f"
            ],
            [
             0.2222222222222222,
             "#7201a8"
            ],
            [
             0.3333333333333333,
             "#9c179e"
            ],
            [
             0.4444444444444444,
             "#bd3786"
            ],
            [
             0.5555555555555556,
             "#d8576b"
            ],
            [
             0.6666666666666666,
             "#ed7953"
            ],
            [
             0.7777777777777778,
             "#fb9f3a"
            ],
            [
             0.8888888888888888,
             "#fdca26"
            ],
            [
             1,
             "#f0f921"
            ]
           ]
          },
          "colorway": [
           "#636efa",
           "#EF553B",
           "#00cc96",
           "#ab63fa",
           "#FFA15A",
           "#19d3f3",
           "#FF6692",
           "#B6E880",
           "#FF97FF",
           "#FECB52"
          ],
          "font": {
           "color": "#2a3f5f"
          },
          "geo": {
           "bgcolor": "white",
           "lakecolor": "white",
           "landcolor": "#E5ECF6",
           "showlakes": true,
           "showland": true,
           "subunitcolor": "white"
          },
          "hoverlabel": {
           "align": "left"
          },
          "hovermode": "closest",
          "mapbox": {
           "style": "light"
          },
          "paper_bgcolor": "white",
          "plot_bgcolor": "#E5ECF6",
          "polar": {
           "angularaxis": {
            "gridcolor": "white",
            "linecolor": "white",
            "ticks": ""
           },
           "bgcolor": "#E5ECF6",
           "radialaxis": {
            "gridcolor": "white",
            "linecolor": "white",
            "ticks": ""
           }
          },
          "scene": {
           "xaxis": {
            "backgroundcolor": "#E5ECF6",
            "gridcolor": "white",
            "gridwidth": 2,
            "linecolor": "white",
            "showbackground": true,
            "ticks": "",
            "zerolinecolor": "white"
           },
           "yaxis": {
            "backgroundcolor": "#E5ECF6",
            "gridcolor": "white",
            "gridwidth": 2,
            "linecolor": "white",
            "showbackground": true,
            "ticks": "",
            "zerolinecolor": "white"
           },
           "zaxis": {
            "backgroundcolor": "#E5ECF6",
            "gridcolor": "white",
            "gridwidth": 2,
            "linecolor": "white",
            "showbackground": true,
            "ticks": "",
            "zerolinecolor": "white"
           }
          },
          "shapedefaults": {
           "line": {
            "color": "#2a3f5f"
           }
          },
          "ternary": {
           "aaxis": {
            "gridcolor": "white",
            "linecolor": "white",
            "ticks": ""
           },
           "baxis": {
            "gridcolor": "white",
            "linecolor": "white",
            "ticks": ""
           },
           "bgcolor": "#E5ECF6",
           "caxis": {
            "gridcolor": "white",
            "linecolor": "white",
            "ticks": ""
           }
          },
          "title": {
           "x": 0.05
          },
          "xaxis": {
           "automargin": true,
           "gridcolor": "white",
           "linecolor": "white",
           "ticks": "",
           "zerolinecolor": "white",
           "zerolinewidth": 2
          },
          "yaxis": {
           "automargin": true,
           "gridcolor": "white",
           "linecolor": "white",
           "ticks": "",
           "zerolinecolor": "white",
           "zerolinewidth": 2
          }
         }
        },
        "updatemenus": [
         {
          "buttons": [
           {
            "args": [
             null,
             {
              "frame": {
               "duration": 500,
               "redraw": false
              },
              "fromcurrent": true,
              "mode": "immediate",
              "transition": {
               "duration": 500,
               "easing": "linear"
              }
             }
            ],
            "label": "&#9654;",
            "method": "animate"
           },
           {
            "args": [
             [
              null
             ],
             {
              "frame": {
               "duration": 0,
               "redraw": false
              },
              "fromcurrent": true,
              "mode": "immediate",
              "transition": {
               "duration": 0,
               "easing": "linear"
              }
             }
            ],
            "label": "&#9724;",
            "method": "animate"
           }
          ],
          "direction": "left",
          "pad": {
           "r": 10,
           "t": 70
          },
          "showactive": false,
          "type": "buttons",
          "x": 0.1,
          "xanchor": "right",
          "y": 0,
          "yanchor": "top"
         }
        ],
        "xaxis": {
         "anchor": "y",
         "domain": [
          0,
          0.98
         ],
         "range": [
          2.5,
          5.5
         ],
         "title": {
          "text": "valence"
         }
        },
        "yaxis": {
         "anchor": "x",
         "domain": [
          0,
          1
         ],
         "range": [
          2.5,
          5.5
         ],
         "title": {
          "text": "arousal"
         }
        }
       }
      },
      "text/html": [
       "<div>\n",
       "        \n",
       "        \n",
       "            <div id=\"f7292c16-a034-4202-aade-febf205bc881\" class=\"plotly-graph-div\" style=\"height:600px; width:100%;\"></div>\n",
       "            <script type=\"text/javascript\">\n",
       "                require([\"plotly\"], function(Plotly) {\n",
       "                    window.PLOTLYENV=window.PLOTLYENV || {};\n",
       "                    \n",
       "                if (document.getElementById(\"f7292c16-a034-4202-aade-febf205bc881\")) {\n",
       "                    Plotly.newPlot(\n",
       "                        'f7292c16-a034-4202-aade-febf205bc881',\n",
       "                        [{\"hoverlabel\": {\"namelength\": 0}, \"hovertemplate\": \"<b>%{hovertext}</b><br><br>pict=michael<br>season=1<br>valence=%{x}<br>arousal=%{y}<br>freq=%{marker.size}\", \"hovertext\": [\"michael\"], \"ids\": [\"michael\"], \"legendgroup\": \"pict=michael\", \"marker\": {\"color\": \"#636efa\", \"size\": [642], \"sizemode\": \"area\", \"sizeref\": 5.81, \"symbol\": \"circle\"}, \"mode\": \"markers\", \"name\": \"pict=michael\", \"showlegend\": true, \"type\": \"scatter\", \"x\": [5.3894102224442335], \"xaxis\": \"x\", \"y\": [4.086394961121363], \"yaxis\": \"y\"}, {\"hoverlabel\": {\"namelength\": 0}, \"hovertemplate\": \"<b>%{hovertext}</b><br><br>pict=dwight<br>season=1<br>valence=%{x}<br>arousal=%{y}<br>freq=%{marker.size}\", \"hovertext\": [\"dwight\"], \"ids\": [\"dwight\"], \"legendgroup\": \"pict=dwight\", \"marker\": {\"color\": \"#EF553B\", \"size\": [326], \"sizemode\": \"area\", \"sizeref\": 5.81, \"symbol\": \"circle\"}, \"mode\": \"markers\", \"name\": \"pict=dwight\", \"showlegend\": true, \"type\": \"scatter\", \"x\": [4.83867268011791], \"xaxis\": \"x\", \"y\": [3.7383846678706014], \"yaxis\": \"y\"}, {\"hoverlabel\": {\"namelength\": 0}, \"hovertemplate\": \"<b>%{hovertext}</b><br><br>pict=jim<br>season=1<br>valence=%{x}<br>arousal=%{y}<br>freq=%{marker.size}\", \"hovertext\": [\"jim\"], \"ids\": [\"jim\"], \"legendgroup\": \"pict=jim\", \"marker\": {\"color\": \"#00cc96\", \"size\": [285], \"sizemode\": \"area\", \"sizeref\": 5.81, \"symbol\": \"circle\"}, \"mode\": \"markers\", \"name\": \"pict=jim\", \"showlegend\": true, \"type\": \"scatter\", \"x\": [4.874991748989316], \"xaxis\": \"x\", \"y\": [3.72811983349916], \"yaxis\": \"y\"}, {\"hoverlabel\": {\"namelength\": 0}, \"hovertemplate\": \"<b>%{hovertext}</b><br><br>pict=pam<br>season=1<br>valence=%{x}<br>arousal=%{y}<br>freq=%{marker.size}\", \"hovertext\": [\"pam\"], \"ids\": [\"pam\"], \"legendgroup\": \"pict=pam\", \"marker\": {\"color\": \"#ab63fa\", \"size\": [219], \"sizemode\": \"area\", \"sizeref\": 5.81, \"symbol\": \"circle\"}, \"mode\": \"markers\", \"name\": \"pict=pam\", \"showlegend\": true, \"type\": \"scatter\", \"x\": [3.9128072795605062], \"xaxis\": \"x\", \"y\": [3.200044513535418], \"yaxis\": \"y\"}, {\"hoverlabel\": {\"namelength\": 0}, \"hovertemplate\": \"<b>%{hovertext}</b><br><br>pict=andy<br>season=1<br>valence=%{x}<br>arousal=%{y}<br>freq=%{marker.size}\", \"hovertext\": [\"andy\"], \"ids\": [\"andy\"], \"legendgroup\": \"pict=andy\", \"marker\": {\"color\": \"#FFA15A\", \"size\": [0], \"sizemode\": \"area\", \"sizeref\": 5.81, \"symbol\": \"circle\"}, \"mode\": \"markers\", \"name\": \"pict=andy\", \"showlegend\": true, \"type\": \"scatter\", \"x\": [null], \"xaxis\": \"x\", \"y\": [null], \"yaxis\": \"y\"}, {\"hoverlabel\": {\"namelength\": 0}, \"hovertemplate\": \"<b>%{hovertext}</b><br><br>pict=kevin<br>season=1<br>valence=%{x}<br>arousal=%{y}<br>freq=%{marker.size}\", \"hovertext\": [\"kevin\"], \"ids\": [\"kevin\"], \"legendgroup\": \"pict=kevin\", \"marker\": {\"color\": \"#19d3f3\", \"size\": [30], \"sizemode\": \"area\", \"sizeref\": 5.81, \"symbol\": \"circle\"}, \"mode\": \"markers\", \"name\": \"pict=kevin\", \"showlegend\": true, \"type\": \"scatter\", \"x\": [5.058198322180568], \"xaxis\": \"x\", \"y\": [3.3969960799576886], \"yaxis\": \"y\"}, {\"hoverlabel\": {\"namelength\": 0}, \"hovertemplate\": \"<b>%{hovertext}</b><br><br>pict=angela<br>season=1<br>valence=%{x}<br>arousal=%{y}<br>freq=%{marker.size}\", \"hovertext\": [\"angela\"], \"ids\": [\"angela\"], \"legendgroup\": \"pict=angela\", \"marker\": {\"color\": \"#FF6692\", \"size\": [32], \"sizemode\": \"area\", \"sizeref\": 5.81, \"symbol\": \"circle\"}, \"mode\": \"markers\", \"name\": \"pict=angela\", \"showlegend\": true, \"type\": \"scatter\", \"x\": [4.38043493457421], \"xaxis\": \"x\", \"y\": [3.5234748018687947], \"yaxis\": \"y\"}, {\"hoverlabel\": {\"namelength\": 0}, \"hovertemplate\": \"<b>%{hovertext}</b><br><br>pict=oscar<br>season=1<br>valence=%{x}<br>arousal=%{y}<br>freq=%{marker.size}\", \"hovertext\": [\"oscar\"], \"ids\": [\"oscar\"], \"legendgroup\": \"pict=oscar\", \"marker\": {\"color\": \"#B6E880\", \"size\": [58], \"sizemode\": \"area\", \"sizeref\": 5.81, \"symbol\": \"circle\"}, \"mode\": \"markers\", \"name\": \"pict=oscar\", \"showlegend\": true, \"type\": \"scatter\", \"x\": [5.388406472879785], \"xaxis\": \"x\", \"y\": [3.672917840808145], \"yaxis\": \"y\"}, {\"hoverlabel\": {\"namelength\": 0}, \"hovertemplate\": \"<b>%{hovertext}</b><br><br>pict=erin<br>season=1<br>valence=%{x}<br>arousal=%{y}<br>freq=%{marker.size}\", \"hovertext\": [\"erin\"], \"ids\": [\"erin\"], \"legendgroup\": \"pict=erin\", \"marker\": {\"color\": \"#FF97FF\", \"size\": [0], \"sizemode\": \"area\", \"sizeref\": 5.81, \"symbol\": \"circle\"}, \"mode\": \"markers\", \"name\": \"pict=erin\", \"showlegend\": true, \"type\": \"scatter\", \"x\": [null], \"xaxis\": \"x\", \"y\": [null], \"yaxis\": \"y\"}, {\"hoverlabel\": {\"namelength\": 0}, \"hovertemplate\": \"<b>%{hovertext}</b><br><br>pict=ryan<br>season=1<br>valence=%{x}<br>arousal=%{y}<br>freq=%{marker.size}\", \"hovertext\": [\"ryan\"], \"ids\": [\"ryan\"], \"legendgroup\": \"pict=ryan\", \"marker\": {\"color\": \"#FECB52\", \"size\": [52], \"sizemode\": \"area\", \"sizeref\": 5.81, \"symbol\": \"circle\"}, \"mode\": \"markers\", \"name\": \"pict=ryan\", \"showlegend\": true, \"type\": \"scatter\", \"x\": [4.8230293510959665], \"xaxis\": \"x\", \"y\": [3.434005348728725], \"yaxis\": \"y\"}],\n",
       "                        {\"height\": 600, \"legend\": {\"itemsizing\": \"constant\", \"tracegroupgap\": 0}, \"margin\": {\"t\": 60}, \"sliders\": [{\"active\": 0, \"currentvalue\": {\"prefix\": \"season=\"}, \"len\": 0.9, \"pad\": {\"b\": 10, \"t\": 60}, \"steps\": [{\"args\": [[\"1\"], {\"frame\": {\"duration\": 0, \"redraw\": false}, \"fromcurrent\": true, \"mode\": \"immediate\", \"transition\": {\"duration\": 0, \"easing\": \"linear\"}}], \"label\": \"1\", \"method\": \"animate\"}, {\"args\": [[\"2\"], {\"frame\": {\"duration\": 0, \"redraw\": false}, \"fromcurrent\": true, \"mode\": \"immediate\", \"transition\": {\"duration\": 0, \"easing\": \"linear\"}}], \"label\": \"2\", \"method\": \"animate\"}, {\"args\": [[\"3\"], {\"frame\": {\"duration\": 0, \"redraw\": false}, \"fromcurrent\": true, \"mode\": \"immediate\", \"transition\": {\"duration\": 0, \"easing\": \"linear\"}}], \"label\": \"3\", \"method\": \"animate\"}, {\"args\": [[\"4\"], {\"frame\": {\"duration\": 0, \"redraw\": false}, \"fromcurrent\": true, \"mode\": \"immediate\", \"transition\": {\"duration\": 0, \"easing\": \"linear\"}}], \"label\": \"4\", \"method\": \"animate\"}, {\"args\": [[\"5\"], {\"frame\": {\"duration\": 0, \"redraw\": false}, \"fromcurrent\": true, \"mode\": \"immediate\", \"transition\": {\"duration\": 0, \"easing\": \"linear\"}}], \"label\": \"5\", \"method\": \"animate\"}, {\"args\": [[\"6\"], {\"frame\": {\"duration\": 0, \"redraw\": false}, \"fromcurrent\": true, \"mode\": \"immediate\", \"transition\": {\"duration\": 0, \"easing\": \"linear\"}}], \"label\": \"6\", \"method\": \"animate\"}, {\"args\": [[\"7\"], {\"frame\": {\"duration\": 0, \"redraw\": false}, \"fromcurrent\": true, \"mode\": \"immediate\", \"transition\": {\"duration\": 0, \"easing\": \"linear\"}}], \"label\": \"7\", \"method\": \"animate\"}, {\"args\": [[\"8\"], {\"frame\": {\"duration\": 0, \"redraw\": false}, \"fromcurrent\": true, \"mode\": \"immediate\", \"transition\": {\"duration\": 0, \"easing\": \"linear\"}}], \"label\": \"8\", \"method\": \"animate\"}, {\"args\": [[\"9\"], {\"frame\": {\"duration\": 0, \"redraw\": false}, \"fromcurrent\": true, \"mode\": \"immediate\", \"transition\": {\"duration\": 0, \"easing\": \"linear\"}}], \"label\": \"9\", \"method\": \"animate\"}], \"x\": 0.1, \"xanchor\": \"left\", \"y\": 0, \"yanchor\": \"top\"}], \"template\": {\"data\": {\"bar\": [{\"error_x\": {\"color\": \"#2a3f5f\"}, \"error_y\": {\"color\": \"#2a3f5f\"}, \"marker\": {\"line\": {\"color\": \"#E5ECF6\", \"width\": 0.5}}, \"type\": \"bar\"}], \"barpolar\": [{\"marker\": {\"line\": {\"color\": \"#E5ECF6\", \"width\": 0.5}}, \"type\": \"barpolar\"}], \"carpet\": [{\"aaxis\": {\"endlinecolor\": \"#2a3f5f\", \"gridcolor\": \"white\", \"linecolor\": \"white\", \"minorgridcolor\": \"white\", \"startlinecolor\": \"#2a3f5f\"}, \"baxis\": {\"endlinecolor\": \"#2a3f5f\", \"gridcolor\": \"white\", \"linecolor\": \"white\", \"minorgridcolor\": \"white\", \"startlinecolor\": \"#2a3f5f\"}, \"type\": \"carpet\"}], \"choropleth\": [{\"colorbar\": {\"outlinewidth\": 0, \"ticks\": \"\"}, \"type\": \"choropleth\"}], \"contour\": [{\"colorbar\": {\"outlinewidth\": 0, \"ticks\": \"\"}, \"colorscale\": [[0.0, \"#0d0887\"], [0.1111111111111111, \"#46039f\"], [0.2222222222222222, \"#7201a8\"], [0.3333333333333333, \"#9c179e\"], [0.4444444444444444, \"#bd3786\"], [0.5555555555555556, \"#d8576b\"], [0.6666666666666666, \"#ed7953\"], [0.7777777777777778, \"#fb9f3a\"], [0.8888888888888888, \"#fdca26\"], [1.0, \"#f0f921\"]], \"type\": \"contour\"}], \"contourcarpet\": [{\"colorbar\": {\"outlinewidth\": 0, \"ticks\": \"\"}, \"type\": \"contourcarpet\"}], \"heatmap\": [{\"colorbar\": {\"outlinewidth\": 0, \"ticks\": \"\"}, \"colorscale\": [[0.0, \"#0d0887\"], [0.1111111111111111, \"#46039f\"], [0.2222222222222222, \"#7201a8\"], [0.3333333333333333, \"#9c179e\"], [0.4444444444444444, \"#bd3786\"], [0.5555555555555556, \"#d8576b\"], [0.6666666666666666, \"#ed7953\"], [0.7777777777777778, \"#fb9f3a\"], [0.8888888888888888, \"#fdca26\"], [1.0, \"#f0f921\"]], \"type\": \"heatmap\"}], \"heatmapgl\": [{\"colorbar\": {\"outlinewidth\": 0, \"ticks\": \"\"}, \"colorscale\": [[0.0, \"#0d0887\"], [0.1111111111111111, \"#46039f\"], [0.2222222222222222, \"#7201a8\"], [0.3333333333333333, \"#9c179e\"], [0.4444444444444444, \"#bd3786\"], [0.5555555555555556, \"#d8576b\"], [0.6666666666666666, \"#ed7953\"], [0.7777777777777778, \"#fb9f3a\"], [0.8888888888888888, \"#fdca26\"], [1.0, \"#f0f921\"]], \"type\": \"heatmapgl\"}], \"histogram\": [{\"marker\": {\"colorbar\": {\"outlinewidth\": 0, \"ticks\": \"\"}}, \"type\": \"histogram\"}], \"histogram2d\": [{\"colorbar\": {\"outlinewidth\": 0, \"ticks\": \"\"}, \"colorscale\": [[0.0, \"#0d0887\"], [0.1111111111111111, \"#46039f\"], [0.2222222222222222, \"#7201a8\"], [0.3333333333333333, \"#9c179e\"], [0.4444444444444444, \"#bd3786\"], [0.5555555555555556, \"#d8576b\"], [0.6666666666666666, \"#ed7953\"], [0.7777777777777778, \"#fb9f3a\"], [0.8888888888888888, \"#fdca26\"], [1.0, \"#f0f921\"]], \"type\": \"histogram2d\"}], \"histogram2dcontour\": [{\"colorbar\": {\"outlinewidth\": 0, \"ticks\": \"\"}, \"colorscale\": [[0.0, \"#0d0887\"], [0.1111111111111111, \"#46039f\"], [0.2222222222222222, \"#7201a8\"], [0.3333333333333333, \"#9c179e\"], [0.4444444444444444, \"#bd3786\"], [0.5555555555555556, \"#d8576b\"], [0.6666666666666666, \"#ed7953\"], [0.7777777777777778, \"#fb9f3a\"], [0.8888888888888888, \"#fdca26\"], [1.0, \"#f0f921\"]], \"type\": \"histogram2dcontour\"}], \"mesh3d\": [{\"colorbar\": {\"outlinewidth\": 0, \"ticks\": \"\"}, \"type\": \"mesh3d\"}], \"parcoords\": [{\"line\": {\"colorbar\": {\"outlinewidth\": 0, \"ticks\": \"\"}}, \"type\": \"parcoords\"}], \"scatter\": [{\"marker\": {\"colorbar\": {\"outlinewidth\": 0, \"ticks\": \"\"}}, \"type\": \"scatter\"}], \"scatter3d\": [{\"line\": {\"colorbar\": {\"outlinewidth\": 0, \"ticks\": \"\"}}, \"marker\": {\"colorbar\": {\"outlinewidth\": 0, \"ticks\": \"\"}}, \"type\": \"scatter3d\"}], \"scattercarpet\": [{\"marker\": {\"colorbar\": {\"outlinewidth\": 0, \"ticks\": \"\"}}, \"type\": \"scattercarpet\"}], \"scattergeo\": [{\"marker\": {\"colorbar\": {\"outlinewidth\": 0, \"ticks\": \"\"}}, \"type\": \"scattergeo\"}], \"scattergl\": [{\"marker\": {\"colorbar\": {\"outlinewidth\": 0, \"ticks\": \"\"}}, \"type\": \"scattergl\"}], \"scattermapbox\": [{\"marker\": {\"colorbar\": {\"outlinewidth\": 0, \"ticks\": \"\"}}, \"type\": \"scattermapbox\"}], \"scatterpolar\": [{\"marker\": {\"colorbar\": {\"outlinewidth\": 0, \"ticks\": \"\"}}, \"type\": \"scatterpolar\"}], \"scatterpolargl\": [{\"marker\": {\"colorbar\": {\"outlinewidth\": 0, \"ticks\": \"\"}}, \"type\": \"scatterpolargl\"}], \"scatterternary\": [{\"marker\": {\"colorbar\": {\"outlinewidth\": 0, \"ticks\": \"\"}}, \"type\": \"scatterternary\"}], \"surface\": [{\"colorbar\": {\"outlinewidth\": 0, \"ticks\": \"\"}, \"colorscale\": [[0.0, \"#0d0887\"], [0.1111111111111111, \"#46039f\"], [0.2222222222222222, \"#7201a8\"], [0.3333333333333333, \"#9c179e\"], [0.4444444444444444, \"#bd3786\"], [0.5555555555555556, \"#d8576b\"], [0.6666666666666666, \"#ed7953\"], [0.7777777777777778, \"#fb9f3a\"], [0.8888888888888888, \"#fdca26\"], [1.0, \"#f0f921\"]], \"type\": \"surface\"}], \"table\": [{\"cells\": {\"fill\": {\"color\": \"#EBF0F8\"}, \"line\": {\"color\": \"white\"}}, \"header\": {\"fill\": {\"color\": \"#C8D4E3\"}, \"line\": {\"color\": \"white\"}}, \"type\": \"table\"}]}, \"layout\": {\"annotationdefaults\": {\"arrowcolor\": \"#2a3f5f\", \"arrowhead\": 0, \"arrowwidth\": 1}, \"colorscale\": {\"diverging\": [[0, \"#8e0152\"], [0.1, \"#c51b7d\"], [0.2, \"#de77ae\"], [0.3, \"#f1b6da\"], [0.4, \"#fde0ef\"], [0.5, \"#f7f7f7\"], [0.6, \"#e6f5d0\"], [0.7, \"#b8e186\"], [0.8, \"#7fbc41\"], [0.9, \"#4d9221\"], [1, \"#276419\"]], \"sequential\": [[0.0, \"#0d0887\"], [0.1111111111111111, \"#46039f\"], [0.2222222222222222, \"#7201a8\"], [0.3333333333333333, \"#9c179e\"], [0.4444444444444444, \"#bd3786\"], [0.5555555555555556, \"#d8576b\"], [0.6666666666666666, \"#ed7953\"], [0.7777777777777778, \"#fb9f3a\"], [0.8888888888888888, \"#fdca26\"], [1.0, \"#f0f921\"]], \"sequentialminus\": [[0.0, \"#0d0887\"], [0.1111111111111111, \"#46039f\"], [0.2222222222222222, \"#7201a8\"], [0.3333333333333333, \"#9c179e\"], [0.4444444444444444, \"#bd3786\"], [0.5555555555555556, \"#d8576b\"], [0.6666666666666666, \"#ed7953\"], [0.7777777777777778, \"#fb9f3a\"], [0.8888888888888888, \"#fdca26\"], [1.0, \"#f0f921\"]]}, \"colorway\": [\"#636efa\", \"#EF553B\", \"#00cc96\", \"#ab63fa\", \"#FFA15A\", \"#19d3f3\", \"#FF6692\", \"#B6E880\", \"#FF97FF\", \"#FECB52\"], \"font\": {\"color\": \"#2a3f5f\"}, \"geo\": {\"bgcolor\": \"white\", \"lakecolor\": \"white\", \"landcolor\": \"#E5ECF6\", \"showlakes\": true, \"showland\": true, \"subunitcolor\": \"white\"}, \"hoverlabel\": {\"align\": \"left\"}, \"hovermode\": \"closest\", \"mapbox\": {\"style\": \"light\"}, \"paper_bgcolor\": \"white\", \"plot_bgcolor\": \"#E5ECF6\", \"polar\": {\"angularaxis\": {\"gridcolor\": \"white\", \"linecolor\": \"white\", \"ticks\": \"\"}, \"bgcolor\": \"#E5ECF6\", \"radialaxis\": {\"gridcolor\": \"white\", \"linecolor\": \"white\", \"ticks\": \"\"}}, \"scene\": {\"xaxis\": {\"backgroundcolor\": \"#E5ECF6\", \"gridcolor\": \"white\", \"gridwidth\": 2, \"linecolor\": \"white\", \"showbackground\": true, \"ticks\": \"\", \"zerolinecolor\": \"white\"}, \"yaxis\": {\"backgroundcolor\": \"#E5ECF6\", \"gridcolor\": \"white\", \"gridwidth\": 2, \"linecolor\": \"white\", \"showbackground\": true, \"ticks\": \"\", \"zerolinecolor\": \"white\"}, \"zaxis\": {\"backgroundcolor\": \"#E5ECF6\", \"gridcolor\": \"white\", \"gridwidth\": 2, \"linecolor\": \"white\", \"showbackground\": true, \"ticks\": \"\", \"zerolinecolor\": \"white\"}}, \"shapedefaults\": {\"line\": {\"color\": \"#2a3f5f\"}}, \"ternary\": {\"aaxis\": {\"gridcolor\": \"white\", \"linecolor\": \"white\", \"ticks\": \"\"}, \"baxis\": {\"gridcolor\": \"white\", \"linecolor\": \"white\", \"ticks\": \"\"}, \"bgcolor\": \"#E5ECF6\", \"caxis\": {\"gridcolor\": \"white\", \"linecolor\": \"white\", \"ticks\": \"\"}}, \"title\": {\"x\": 0.05}, \"xaxis\": {\"automargin\": true, \"gridcolor\": \"white\", \"linecolor\": \"white\", \"ticks\": \"\", \"zerolinecolor\": \"white\", \"zerolinewidth\": 2}, \"yaxis\": {\"automargin\": true, \"gridcolor\": \"white\", \"linecolor\": \"white\", \"ticks\": \"\", \"zerolinecolor\": \"white\", \"zerolinewidth\": 2}}}, \"updatemenus\": [{\"buttons\": [{\"args\": [null, {\"frame\": {\"duration\": 500, \"redraw\": false}, \"fromcurrent\": true, \"mode\": \"immediate\", \"transition\": {\"duration\": 500, \"easing\": \"linear\"}}], \"label\": \"&#9654;\", \"method\": \"animate\"}, {\"args\": [[null], {\"frame\": {\"duration\": 0, \"redraw\": false}, \"fromcurrent\": true, \"mode\": \"immediate\", \"transition\": {\"duration\": 0, \"easing\": \"linear\"}}], \"label\": \"&#9724;\", \"method\": \"animate\"}], \"direction\": \"left\", \"pad\": {\"r\": 10, \"t\": 70}, \"showactive\": false, \"type\": \"buttons\", \"x\": 0.1, \"xanchor\": \"right\", \"y\": 0, \"yanchor\": \"top\"}], \"xaxis\": {\"anchor\": \"y\", \"domain\": [0.0, 0.98], \"range\": [2.5, 5.5], \"title\": {\"text\": \"valence\"}}, \"yaxis\": {\"anchor\": \"x\", \"domain\": [0.0, 1.0], \"range\": [2.5, 5.5], \"title\": {\"text\": \"arousal\"}}},\n",
       "                        {\"responsive\": true}\n",
       "                    ).then(function(){\n",
       "                            Plotly.addFrames('f7292c16-a034-4202-aade-febf205bc881', [{\"data\": [{\"hoverlabel\": {\"namelength\": 0}, \"hovertemplate\": \"<b>%{hovertext}</b><br><br>pict=michael<br>season=1<br>valence=%{x}<br>arousal=%{y}<br>freq=%{marker.size}\", \"hovertext\": [\"michael\"], \"ids\": [\"michael\"], \"legendgroup\": \"pict=michael\", \"marker\": {\"color\": \"#636efa\", \"size\": [642], \"sizemode\": \"area\", \"sizeref\": 5.81, \"symbol\": \"circle\"}, \"mode\": \"markers\", \"name\": \"pict=michael\", \"showlegend\": true, \"x\": [5.3894102224442335], \"xaxis\": \"x\", \"y\": [4.086394961121363], \"yaxis\": \"y\", \"type\": \"scatter\"}, {\"hoverlabel\": {\"namelength\": 0}, \"hovertemplate\": \"<b>%{hovertext}</b><br><br>pict=dwight<br>season=1<br>valence=%{x}<br>arousal=%{y}<br>freq=%{marker.size}\", \"hovertext\": [\"dwight\"], \"ids\": [\"dwight\"], \"legendgroup\": \"pict=dwight\", \"marker\": {\"color\": \"#EF553B\", \"size\": [326], \"sizemode\": \"area\", \"sizeref\": 5.81, \"symbol\": \"circle\"}, \"mode\": \"markers\", \"name\": \"pict=dwight\", \"showlegend\": true, \"x\": [4.83867268011791], \"xaxis\": \"x\", \"y\": [3.7383846678706014], \"yaxis\": \"y\", \"type\": \"scatter\"}, {\"hoverlabel\": {\"namelength\": 0}, \"hovertemplate\": \"<b>%{hovertext}</b><br><br>pict=jim<br>season=1<br>valence=%{x}<br>arousal=%{y}<br>freq=%{marker.size}\", \"hovertext\": [\"jim\"], \"ids\": [\"jim\"], \"legendgroup\": \"pict=jim\", \"marker\": {\"color\": \"#00cc96\", \"size\": [285], \"sizemode\": \"area\", \"sizeref\": 5.81, \"symbol\": \"circle\"}, \"mode\": \"markers\", \"name\": \"pict=jim\", \"showlegend\": true, \"x\": [4.874991748989316], \"xaxis\": \"x\", \"y\": [3.72811983349916], \"yaxis\": \"y\", \"type\": \"scatter\"}, {\"hoverlabel\": {\"namelength\": 0}, \"hovertemplate\": \"<b>%{hovertext}</b><br><br>pict=pam<br>season=1<br>valence=%{x}<br>arousal=%{y}<br>freq=%{marker.size}\", \"hovertext\": [\"pam\"], \"ids\": [\"pam\"], \"legendgroup\": \"pict=pam\", \"marker\": {\"color\": \"#ab63fa\", \"size\": [219], \"sizemode\": \"area\", \"sizeref\": 5.81, \"symbol\": \"circle\"}, \"mode\": \"markers\", \"name\": \"pict=pam\", \"showlegend\": true, \"x\": [3.9128072795605062], \"xaxis\": \"x\", \"y\": [3.200044513535418], \"yaxis\": \"y\", \"type\": \"scatter\"}, {\"hoverlabel\": {\"namelength\": 0}, \"hovertemplate\": \"<b>%{hovertext}</b><br><br>pict=andy<br>season=1<br>valence=%{x}<br>arousal=%{y}<br>freq=%{marker.size}\", \"hovertext\": [\"andy\"], \"ids\": [\"andy\"], \"legendgroup\": \"pict=andy\", \"marker\": {\"color\": \"#FFA15A\", \"size\": [0], \"sizemode\": \"area\", \"sizeref\": 5.81, \"symbol\": \"circle\"}, \"mode\": \"markers\", \"name\": \"pict=andy\", \"showlegend\": true, \"x\": [null], \"xaxis\": \"x\", \"y\": [null], \"yaxis\": \"y\", \"type\": \"scatter\"}, {\"hoverlabel\": {\"namelength\": 0}, \"hovertemplate\": \"<b>%{hovertext}</b><br><br>pict=kevin<br>season=1<br>valence=%{x}<br>arousal=%{y}<br>freq=%{marker.size}\", \"hovertext\": [\"kevin\"], \"ids\": [\"kevin\"], \"legendgroup\": \"pict=kevin\", \"marker\": {\"color\": \"#19d3f3\", \"size\": [30], \"sizemode\": \"area\", \"sizeref\": 5.81, \"symbol\": \"circle\"}, \"mode\": \"markers\", \"name\": \"pict=kevin\", \"showlegend\": true, \"x\": [5.058198322180568], \"xaxis\": \"x\", \"y\": [3.3969960799576886], \"yaxis\": \"y\", \"type\": \"scatter\"}, {\"hoverlabel\": {\"namelength\": 0}, \"hovertemplate\": \"<b>%{hovertext}</b><br><br>pict=angela<br>season=1<br>valence=%{x}<br>arousal=%{y}<br>freq=%{marker.size}\", \"hovertext\": [\"angela\"], \"ids\": [\"angela\"], \"legendgroup\": \"pict=angela\", \"marker\": {\"color\": \"#FF6692\", \"size\": [32], \"sizemode\": \"area\", \"sizeref\": 5.81, \"symbol\": \"circle\"}, \"mode\": \"markers\", \"name\": \"pict=angela\", \"showlegend\": true, \"x\": [4.38043493457421], \"xaxis\": \"x\", \"y\": [3.5234748018687947], \"yaxis\": \"y\", \"type\": \"scatter\"}, {\"hoverlabel\": {\"namelength\": 0}, \"hovertemplate\": \"<b>%{hovertext}</b><br><br>pict=oscar<br>season=1<br>valence=%{x}<br>arousal=%{y}<br>freq=%{marker.size}\", \"hovertext\": [\"oscar\"], \"ids\": [\"oscar\"], \"legendgroup\": \"pict=oscar\", \"marker\": {\"color\": \"#B6E880\", \"size\": [58], \"sizemode\": \"area\", \"sizeref\": 5.81, \"symbol\": \"circle\"}, \"mode\": \"markers\", \"name\": \"pict=oscar\", \"showlegend\": true, \"x\": [5.388406472879785], \"xaxis\": \"x\", \"y\": [3.672917840808145], \"yaxis\": \"y\", \"type\": \"scatter\"}, {\"hoverlabel\": {\"namelength\": 0}, \"hovertemplate\": \"<b>%{hovertext}</b><br><br>pict=erin<br>season=1<br>valence=%{x}<br>arousal=%{y}<br>freq=%{marker.size}\", \"hovertext\": [\"erin\"], \"ids\": [\"erin\"], \"legendgroup\": \"pict=erin\", \"marker\": {\"color\": \"#FF97FF\", \"size\": [0], \"sizemode\": \"area\", \"sizeref\": 5.81, \"symbol\": \"circle\"}, \"mode\": \"markers\", \"name\": \"pict=erin\", \"showlegend\": true, \"x\": [null], \"xaxis\": \"x\", \"y\": [null], \"yaxis\": \"y\", \"type\": \"scatter\"}, {\"hoverlabel\": {\"namelength\": 0}, \"hovertemplate\": \"<b>%{hovertext}</b><br><br>pict=ryan<br>season=1<br>valence=%{x}<br>arousal=%{y}<br>freq=%{marker.size}\", \"hovertext\": [\"ryan\"], \"ids\": [\"ryan\"], \"legendgroup\": \"pict=ryan\", \"marker\": {\"color\": \"#FECB52\", \"size\": [52], \"sizemode\": \"area\", \"sizeref\": 5.81, \"symbol\": \"circle\"}, \"mode\": \"markers\", \"name\": \"pict=ryan\", \"showlegend\": true, \"x\": [4.8230293510959665], \"xaxis\": \"x\", \"y\": [3.434005348728725], \"yaxis\": \"y\", \"type\": \"scatter\"}], \"name\": \"1\"}, {\"data\": [{\"hoverlabel\": {\"namelength\": 0}, \"hovertemplate\": \"<b>%{hovertext}</b><br><br>pict=michael<br>season=2<br>valence=%{x}<br>arousal=%{y}<br>freq=%{marker.size}\", \"hovertext\": [\"michael\"], \"ids\": [\"michael\"], \"legendgroup\": \"pict=michael\", \"marker\": {\"color\": \"#636efa\", \"size\": [2324], \"sizemode\": \"area\", \"sizeref\": 5.81, \"symbol\": \"circle\"}, \"mode\": \"markers\", \"name\": \"pict=michael\", \"showlegend\": true, \"x\": [4.959742334213665], \"xaxis\": \"x\", \"y\": [3.784394629966104], \"yaxis\": \"y\", \"type\": \"scatter\"}, {\"hoverlabel\": {\"namelength\": 0}, \"hovertemplate\": \"<b>%{hovertext}</b><br><br>pict=dwight<br>season=2<br>valence=%{x}<br>arousal=%{y}<br>freq=%{marker.size}\", \"hovertext\": [\"dwight\"], \"ids\": [\"dwight\"], \"legendgroup\": \"pict=dwight\", \"marker\": {\"color\": \"#EF553B\", \"size\": [1114], \"sizemode\": \"area\", \"sizeref\": 5.81, \"symbol\": \"circle\"}, \"mode\": \"markers\", \"name\": \"pict=dwight\", \"showlegend\": true, \"x\": [4.758592179754369], \"xaxis\": \"x\", \"y\": [3.729463437965317], \"yaxis\": \"y\", \"type\": \"scatter\"}, {\"hoverlabel\": {\"namelength\": 0}, \"hovertemplate\": \"<b>%{hovertext}</b><br><br>pict=jim<br>season=2<br>valence=%{x}<br>arousal=%{y}<br>freq=%{marker.size}\", \"hovertext\": [\"jim\"], \"ids\": [\"jim\"], \"legendgroup\": \"pict=jim\", \"marker\": {\"color\": \"#00cc96\", \"size\": [906], \"sizemode\": \"area\", \"sizeref\": 5.81, \"symbol\": \"circle\"}, \"mode\": \"markers\", \"name\": \"pict=jim\", \"showlegend\": true, \"x\": [4.672921546840124], \"xaxis\": \"x\", \"y\": [3.4823680573631486], \"yaxis\": \"y\", \"type\": \"scatter\"}, {\"hoverlabel\": {\"namelength\": 0}, \"hovertemplate\": \"<b>%{hovertext}</b><br><br>pict=pam<br>season=2<br>valence=%{x}<br>arousal=%{y}<br>freq=%{marker.size}\", \"hovertext\": [\"pam\"], \"ids\": [\"pam\"], \"legendgroup\": \"pict=pam\", \"marker\": {\"color\": \"#ab63fa\", \"size\": [729], \"sizemode\": \"area\", \"sizeref\": 5.81, \"symbol\": \"circle\"}, \"mode\": \"markers\", \"name\": \"pict=pam\", \"showlegend\": true, \"x\": [4.679778689968384], \"xaxis\": \"x\", \"y\": [3.59053226340982], \"yaxis\": \"y\", \"type\": \"scatter\"}, {\"hoverlabel\": {\"namelength\": 0}, \"hovertemplate\": \"<b>%{hovertext}</b><br><br>pict=andy<br>season=2<br>valence=%{x}<br>arousal=%{y}<br>freq=%{marker.size}\", \"hovertext\": [\"andy\"], \"ids\": [\"andy\"], \"legendgroup\": \"pict=andy\", \"marker\": {\"color\": \"#FFA15A\", \"size\": [0], \"sizemode\": \"area\", \"sizeref\": 5.81, \"symbol\": \"circle\"}, \"mode\": \"markers\", \"name\": \"pict=andy\", \"showlegend\": true, \"x\": [null], \"xaxis\": \"x\", \"y\": [null], \"yaxis\": \"y\", \"type\": \"scatter\"}, {\"hoverlabel\": {\"namelength\": 0}, \"hovertemplate\": \"<b>%{hovertext}</b><br><br>pict=kevin<br>season=2<br>valence=%{x}<br>arousal=%{y}<br>freq=%{marker.size}\", \"hovertext\": [\"kevin\"], \"ids\": [\"kevin\"], \"legendgroup\": \"pict=kevin\", \"marker\": {\"color\": \"#19d3f3\", \"size\": [157], \"sizemode\": \"area\", \"sizeref\": 5.81, \"symbol\": \"circle\"}, \"mode\": \"markers\", \"name\": \"pict=kevin\", \"showlegend\": true, \"x\": [4.604969269490652], \"xaxis\": \"x\", \"y\": [3.586098738095276], \"yaxis\": \"y\", \"type\": \"scatter\"}, {\"hoverlabel\": {\"namelength\": 0}, \"hovertemplate\": \"<b>%{hovertext}</b><br><br>pict=angela<br>season=2<br>valence=%{x}<br>arousal=%{y}<br>freq=%{marker.size}\", \"hovertext\": [\"angela\"], \"ids\": [\"angela\"], \"legendgroup\": \"pict=angela\", \"marker\": {\"color\": \"#FF6692\", \"size\": [162], \"sizemode\": \"area\", \"sizeref\": 5.81, \"symbol\": \"circle\"}, \"mode\": \"markers\", \"name\": \"pict=angela\", \"showlegend\": true, \"x\": [4.556471767070616], \"xaxis\": \"x\", \"y\": [3.530703209092225], \"yaxis\": \"y\", \"type\": \"scatter\"}, {\"hoverlabel\": {\"namelength\": 0}, \"hovertemplate\": \"<b>%{hovertext}</b><br><br>pict=oscar<br>season=2<br>valence=%{x}<br>arousal=%{y}<br>freq=%{marker.size}\", \"hovertext\": [\"oscar\"], \"ids\": [\"oscar\"], \"legendgroup\": \"pict=oscar\", \"marker\": {\"color\": \"#B6E880\", \"size\": [130], \"sizemode\": \"area\", \"sizeref\": 5.81, \"symbol\": \"circle\"}, \"mode\": \"markers\", \"name\": \"pict=oscar\", \"showlegend\": true, \"x\": [4.316758839904839], \"xaxis\": \"x\", \"y\": [3.3915390089902187], \"yaxis\": \"y\", \"type\": \"scatter\"}, {\"hoverlabel\": {\"namelength\": 0}, \"hovertemplate\": \"<b>%{hovertext}</b><br><br>pict=erin<br>season=2<br>valence=%{x}<br>arousal=%{y}<br>freq=%{marker.size}\", \"hovertext\": [\"erin\"], \"ids\": [\"erin\"], \"legendgroup\": \"pict=erin\", \"marker\": {\"color\": \"#FF97FF\", \"size\": [0], \"sizemode\": \"area\", \"sizeref\": 5.81, \"symbol\": \"circle\"}, \"mode\": \"markers\", \"name\": \"pict=erin\", \"showlegend\": true, \"x\": [null], \"xaxis\": \"x\", \"y\": [null], \"yaxis\": \"y\", \"type\": \"scatter\"}, {\"hoverlabel\": {\"namelength\": 0}, \"hovertemplate\": \"<b>%{hovertext}</b><br><br>pict=ryan<br>season=2<br>valence=%{x}<br>arousal=%{y}<br>freq=%{marker.size}\", \"hovertext\": [\"ryan\"], \"ids\": [\"ryan\"], \"legendgroup\": \"pict=ryan\", \"marker\": {\"color\": \"#FECB52\", \"size\": [227], \"sizemode\": \"area\", \"sizeref\": 5.81, \"symbol\": \"circle\"}, \"mode\": \"markers\", \"name\": \"pict=ryan\", \"showlegend\": true, \"x\": [4.407953136039857], \"xaxis\": \"x\", \"y\": [3.4358947398997315], \"yaxis\": \"y\", \"type\": \"scatter\"}], \"name\": \"2\"}, {\"data\": [{\"hoverlabel\": {\"namelength\": 0}, \"hovertemplate\": \"<b>%{hovertext}</b><br><br>pict=michael<br>season=3<br>valence=%{x}<br>arousal=%{y}<br>freq=%{marker.size}\", \"hovertext\": [\"michael\"], \"ids\": [\"michael\"], \"legendgroup\": \"pict=michael\", \"marker\": {\"color\": \"#636efa\", \"size\": [1990], \"sizemode\": \"area\", \"sizeref\": 5.81, \"symbol\": \"circle\"}, \"mode\": \"markers\", \"name\": \"pict=michael\", \"showlegend\": true, \"x\": [5.062062778338467], \"xaxis\": \"x\", \"y\": [3.869244603041011], \"yaxis\": \"y\", \"type\": \"scatter\"}, {\"hoverlabel\": {\"namelength\": 0}, \"hovertemplate\": \"<b>%{hovertext}</b><br><br>pict=dwight<br>season=3<br>valence=%{x}<br>arousal=%{y}<br>freq=%{marker.size}\", \"hovertext\": [\"dwight\"], \"ids\": [\"dwight\"], \"legendgroup\": \"pict=dwight\", \"marker\": {\"color\": \"#EF553B\", \"size\": [939], \"sizemode\": \"area\", \"sizeref\": 5.81, \"symbol\": \"circle\"}, \"mode\": \"markers\", \"name\": \"pict=dwight\", \"showlegend\": true, \"x\": [4.834057700447544], \"xaxis\": \"x\", \"y\": [3.8703846298619835], \"yaxis\": \"y\", \"type\": \"scatter\"}, {\"hoverlabel\": {\"namelength\": 0}, \"hovertemplate\": \"<b>%{hovertext}</b><br><br>pict=jim<br>season=3<br>valence=%{x}<br>arousal=%{y}<br>freq=%{marker.size}\", \"hovertext\": [\"jim\"], \"ids\": [\"jim\"], \"legendgroup\": \"pict=jim\", \"marker\": {\"color\": \"#00cc96\", \"size\": [783], \"sizemode\": \"area\", \"sizeref\": 5.81, \"symbol\": \"circle\"}, \"mode\": \"markers\", \"name\": \"pict=jim\", \"showlegend\": true, \"x\": [4.593692906752937], \"xaxis\": \"x\", \"y\": [3.4639002415477256], \"yaxis\": \"y\", \"type\": \"scatter\"}, {\"hoverlabel\": {\"namelength\": 0}, \"hovertemplate\": \"<b>%{hovertext}</b><br><br>pict=pam<br>season=3<br>valence=%{x}<br>arousal=%{y}<br>freq=%{marker.size}\", \"hovertext\": [\"pam\"], \"ids\": [\"pam\"], \"legendgroup\": \"pict=pam\", \"marker\": {\"color\": \"#ab63fa\", \"size\": [665], \"sizemode\": \"area\", \"sizeref\": 5.81, \"symbol\": \"circle\"}, \"mode\": \"markers\", \"name\": \"pict=pam\", \"showlegend\": true, \"x\": [4.6546331415607245], \"xaxis\": \"x\", \"y\": [3.4499067031972612], \"yaxis\": \"y\", \"type\": \"scatter\"}, {\"hoverlabel\": {\"namelength\": 0}, \"hovertemplate\": \"<b>%{hovertext}</b><br><br>pict=andy<br>season=3<br>valence=%{x}<br>arousal=%{y}<br>freq=%{marker.size}\", \"hovertext\": [\"andy\"], \"ids\": [\"andy\"], \"legendgroup\": \"pict=andy\", \"marker\": {\"color\": \"#FFA15A\", \"size\": [391], \"sizemode\": \"area\", \"sizeref\": 5.81, \"symbol\": \"circle\"}, \"mode\": \"markers\", \"name\": \"pict=andy\", \"showlegend\": true, \"x\": [5.162521331545661], \"xaxis\": \"x\", \"y\": [3.945707951202051], \"yaxis\": \"y\", \"type\": \"scatter\"}, {\"hoverlabel\": {\"namelength\": 0}, \"hovertemplate\": \"<b>%{hovertext}</b><br><br>pict=kevin<br>season=3<br>valence=%{x}<br>arousal=%{y}<br>freq=%{marker.size}\", \"hovertext\": [\"kevin\"], \"ids\": [\"kevin\"], \"legendgroup\": \"pict=kevin\", \"marker\": {\"color\": \"#19d3f3\", \"size\": [212], \"sizemode\": \"area\", \"sizeref\": 5.81, \"symbol\": \"circle\"}, \"mode\": \"markers\", \"name\": \"pict=kevin\", \"showlegend\": true, \"x\": [4.97778246544267], \"xaxis\": \"x\", \"y\": [3.8327600987913018], \"yaxis\": \"y\", \"type\": \"scatter\"}, {\"hoverlabel\": {\"namelength\": 0}, \"hovertemplate\": \"<b>%{hovertext}</b><br><br>pict=angela<br>season=3<br>valence=%{x}<br>arousal=%{y}<br>freq=%{marker.size}\", \"hovertext\": [\"angela\"], \"ids\": [\"angela\"], \"legendgroup\": \"pict=angela\", \"marker\": {\"color\": \"#FF6692\", \"size\": [243], \"sizemode\": \"area\", \"sizeref\": 5.81, \"symbol\": \"circle\"}, \"mode\": \"markers\", \"name\": \"pict=angela\", \"showlegend\": true, \"x\": [4.953125187356443], \"xaxis\": \"x\", \"y\": [3.7895640034365554], \"yaxis\": \"y\", \"type\": \"scatter\"}, {\"hoverlabel\": {\"namelength\": 0}, \"hovertemplate\": \"<b>%{hovertext}</b><br><br>pict=oscar<br>season=3<br>valence=%{x}<br>arousal=%{y}<br>freq=%{marker.size}\", \"hovertext\": [\"oscar\"], \"ids\": [\"oscar\"], \"legendgroup\": \"pict=oscar\", \"marker\": {\"color\": \"#B6E880\", \"size\": [72], \"sizemode\": \"area\", \"sizeref\": 5.81, \"symbol\": \"circle\"}, \"mode\": \"markers\", \"name\": \"pict=oscar\", \"showlegend\": true, \"x\": [5.298071732631902], \"xaxis\": \"x\", \"y\": [4.094843110008679], \"yaxis\": \"y\", \"type\": \"scatter\"}, {\"hoverlabel\": {\"namelength\": 0}, \"hovertemplate\": \"<b>%{hovertext}</b><br><br>pict=erin<br>season=3<br>valence=%{x}<br>arousal=%{y}<br>freq=%{marker.size}\", \"hovertext\": [\"erin\"], \"ids\": [\"erin\"], \"legendgroup\": \"pict=erin\", \"marker\": {\"color\": \"#FF97FF\", \"size\": [0], \"sizemode\": \"area\", \"sizeref\": 5.81, \"symbol\": \"circle\"}, \"mode\": \"markers\", \"name\": \"pict=erin\", \"showlegend\": true, \"x\": [null], \"xaxis\": \"x\", \"y\": [null], \"yaxis\": \"y\", \"type\": \"scatter\"}, {\"hoverlabel\": {\"namelength\": 0}, \"hovertemplate\": \"<b>%{hovertext}</b><br><br>pict=ryan<br>season=3<br>valence=%{x}<br>arousal=%{y}<br>freq=%{marker.size}\", \"hovertext\": [\"ryan\"], \"ids\": [\"ryan\"], \"legendgroup\": \"pict=ryan\", \"marker\": {\"color\": \"#FECB52\", \"size\": [197], \"sizemode\": \"area\", \"sizeref\": 5.81, \"symbol\": \"circle\"}, \"mode\": \"markers\", \"name\": \"pict=ryan\", \"showlegend\": true, \"x\": [4.679209469996132], \"xaxis\": \"x\", \"y\": [3.6325279648584314], \"yaxis\": \"y\", \"type\": \"scatter\"}], \"name\": \"3\"}, {\"data\": [{\"hoverlabel\": {\"namelength\": 0}, \"hovertemplate\": \"<b>%{hovertext}</b><br><br>pict=michael<br>season=4<br>valence=%{x}<br>arousal=%{y}<br>freq=%{marker.size}\", \"hovertext\": [\"michael\"], \"ids\": [\"michael\"], \"legendgroup\": \"pict=michael\", \"marker\": {\"color\": \"#636efa\", \"size\": [1633], \"sizemode\": \"area\", \"sizeref\": 5.81, \"symbol\": \"circle\"}, \"mode\": \"markers\", \"name\": \"pict=michael\", \"showlegend\": true, \"x\": [5.020554974342356], \"xaxis\": \"x\", \"y\": [3.860218915278064], \"yaxis\": \"y\", \"type\": \"scatter\"}, {\"hoverlabel\": {\"namelength\": 0}, \"hovertemplate\": \"<b>%{hovertext}</b><br><br>pict=dwight<br>season=4<br>valence=%{x}<br>arousal=%{y}<br>freq=%{marker.size}\", \"hovertext\": [\"dwight\"], \"ids\": [\"dwight\"], \"legendgroup\": \"pict=dwight\", \"marker\": {\"color\": \"#EF553B\", \"size\": [547], \"sizemode\": \"area\", \"sizeref\": 5.81, \"symbol\": \"circle\"}, \"mode\": \"markers\", \"name\": \"pict=dwight\", \"showlegend\": true, \"x\": [4.778915886356828], \"xaxis\": \"x\", \"y\": [3.6868711120280335], \"yaxis\": \"y\", \"type\": \"scatter\"}, {\"hoverlabel\": {\"namelength\": 0}, \"hovertemplate\": \"<b>%{hovertext}</b><br><br>pict=jim<br>season=4<br>valence=%{x}<br>arousal=%{y}<br>freq=%{marker.size}\", \"hovertext\": [\"jim\"], \"ids\": [\"jim\"], \"legendgroup\": \"pict=jim\", \"marker\": {\"color\": \"#00cc96\", \"size\": [684], \"sizemode\": \"area\", \"sizeref\": 5.81, \"symbol\": \"circle\"}, \"mode\": \"markers\", \"name\": \"pict=jim\", \"showlegend\": true, \"x\": [4.616480357728034], \"xaxis\": \"x\", \"y\": [3.549141915185285], \"yaxis\": \"y\", \"type\": \"scatter\"}, {\"hoverlabel\": {\"namelength\": 0}, \"hovertemplate\": \"<b>%{hovertext}</b><br><br>pict=pam<br>season=4<br>valence=%{x}<br>arousal=%{y}<br>freq=%{marker.size}\", \"hovertext\": [\"pam\"], \"ids\": [\"pam\"], \"legendgroup\": \"pict=pam\", \"marker\": {\"color\": \"#ab63fa\", \"size\": [528], \"sizemode\": \"area\", \"sizeref\": 5.81, \"symbol\": \"circle\"}, \"mode\": \"markers\", \"name\": \"pict=pam\", \"showlegend\": true, \"x\": [4.567228459452432], \"xaxis\": \"x\", \"y\": [3.451485103075178], \"yaxis\": \"y\", \"type\": \"scatter\"}, {\"hoverlabel\": {\"namelength\": 0}, \"hovertemplate\": \"<b>%{hovertext}</b><br><br>pict=andy<br>season=4<br>valence=%{x}<br>arousal=%{y}<br>freq=%{marker.size}\", \"hovertext\": [\"andy\"], \"ids\": [\"andy\"], \"legendgroup\": \"pict=andy\", \"marker\": {\"color\": \"#FFA15A\", \"size\": [223], \"sizemode\": \"area\", \"sizeref\": 5.81, \"symbol\": \"circle\"}, \"mode\": \"markers\", \"name\": \"pict=andy\", \"showlegend\": true, \"x\": [5.138573808631016], \"xaxis\": \"x\", \"y\": [3.8164257506050068], \"yaxis\": \"y\", \"type\": \"scatter\"}, {\"hoverlabel\": {\"namelength\": 0}, \"hovertemplate\": \"<b>%{hovertext}</b><br><br>pict=kevin<br>season=4<br>valence=%{x}<br>arousal=%{y}<br>freq=%{marker.size}\", \"hovertext\": [\"kevin\"], \"ids\": [\"kevin\"], \"legendgroup\": \"pict=kevin\", \"marker\": {\"color\": \"#19d3f3\", \"size\": [141], \"sizemode\": \"area\", \"sizeref\": 5.81, \"symbol\": \"circle\"}, \"mode\": \"markers\", \"name\": \"pict=kevin\", \"showlegend\": true, \"x\": [4.26575291659843], \"xaxis\": \"x\", \"y\": [3.4981926669646275], \"yaxis\": \"y\", \"type\": \"scatter\"}, {\"hoverlabel\": {\"namelength\": 0}, \"hovertemplate\": \"<b>%{hovertext}</b><br><br>pict=angela<br>season=4<br>valence=%{x}<br>arousal=%{y}<br>freq=%{marker.size}\", \"hovertext\": [\"angela\"], \"ids\": [\"angela\"], \"legendgroup\": \"pict=angela\", \"marker\": {\"color\": \"#FF6692\", \"size\": [193], \"sizemode\": \"area\", \"sizeref\": 5.81, \"symbol\": \"circle\"}, \"mode\": \"markers\", \"name\": \"pict=angela\", \"showlegend\": true, \"x\": [4.4154503326138865], \"xaxis\": \"x\", \"y\": [3.5638047083047635], \"yaxis\": \"y\", \"type\": \"scatter\"}, {\"hoverlabel\": {\"namelength\": 0}, \"hovertemplate\": \"<b>%{hovertext}</b><br><br>pict=oscar<br>season=4<br>valence=%{x}<br>arousal=%{y}<br>freq=%{marker.size}\", \"hovertext\": [\"oscar\"], \"ids\": [\"oscar\"], \"legendgroup\": \"pict=oscar\", \"marker\": {\"color\": \"#B6E880\", \"size\": [111], \"sizemode\": \"area\", \"sizeref\": 5.81, \"symbol\": \"circle\"}, \"mode\": \"markers\", \"name\": \"pict=oscar\", \"showlegend\": true, \"x\": [4.970576434085902], \"xaxis\": \"x\", \"y\": [3.7544317937462384], \"yaxis\": \"y\", \"type\": \"scatter\"}, {\"hoverlabel\": {\"namelength\": 0}, \"hovertemplate\": \"<b>%{hovertext}</b><br><br>pict=erin<br>season=4<br>valence=%{x}<br>arousal=%{y}<br>freq=%{marker.size}\", \"hovertext\": [\"erin\"], \"ids\": [\"erin\"], \"legendgroup\": \"pict=erin\", \"marker\": {\"color\": \"#FF97FF\", \"size\": [0], \"sizemode\": \"area\", \"sizeref\": 5.81, \"symbol\": \"circle\"}, \"mode\": \"markers\", \"name\": \"pict=erin\", \"showlegend\": true, \"x\": [null], \"xaxis\": \"x\", \"y\": [null], \"yaxis\": \"y\", \"type\": \"scatter\"}, {\"hoverlabel\": {\"namelength\": 0}, \"hovertemplate\": \"<b>%{hovertext}</b><br><br>pict=ryan<br>season=4<br>valence=%{x}<br>arousal=%{y}<br>freq=%{marker.size}\", \"hovertext\": [\"ryan\"], \"ids\": [\"ryan\"], \"legendgroup\": \"pict=ryan\", \"marker\": {\"color\": \"#FECB52\", \"size\": [228], \"sizemode\": \"area\", \"sizeref\": 5.81, \"symbol\": \"circle\"}, \"mode\": \"markers\", \"name\": \"pict=ryan\", \"showlegend\": true, \"x\": [4.9408632408671656], \"xaxis\": \"x\", \"y\": [3.6270058798948313], \"yaxis\": \"y\", \"type\": \"scatter\"}], \"name\": \"4\"}, {\"data\": [{\"hoverlabel\": {\"namelength\": 0}, \"hovertemplate\": \"<b>%{hovertext}</b><br><br>pict=michael<br>season=5<br>valence=%{x}<br>arousal=%{y}<br>freq=%{marker.size}\", \"hovertext\": [\"michael\"], \"ids\": [\"michael\"], \"legendgroup\": \"pict=michael\", \"marker\": {\"color\": \"#636efa\", \"size\": [2163], \"sizemode\": \"area\", \"sizeref\": 5.81, \"symbol\": \"circle\"}, \"mode\": \"markers\", \"name\": \"pict=michael\", \"showlegend\": true, \"x\": [4.9014474171833085], \"xaxis\": \"x\", \"y\": [3.7172726980319735], \"yaxis\": \"y\", \"type\": \"scatter\"}, {\"hoverlabel\": {\"namelength\": 0}, \"hovertemplate\": \"<b>%{hovertext}</b><br><br>pict=dwight<br>season=5<br>valence=%{x}<br>arousal=%{y}<br>freq=%{marker.size}\", \"hovertext\": [\"dwight\"], \"ids\": [\"dwight\"], \"legendgroup\": \"pict=dwight\", \"marker\": {\"color\": \"#EF553B\", \"size\": [1074], \"sizemode\": \"area\", \"sizeref\": 5.81, \"symbol\": \"circle\"}, \"mode\": \"markers\", \"name\": \"pict=dwight\", \"showlegend\": true, \"x\": [4.845033068046804], \"xaxis\": \"x\", \"y\": [3.844167347954132], \"yaxis\": \"y\", \"type\": \"scatter\"}, {\"hoverlabel\": {\"namelength\": 0}, \"hovertemplate\": \"<b>%{hovertext}</b><br><br>pict=jim<br>season=5<br>valence=%{x}<br>arousal=%{y}<br>freq=%{marker.size}\", \"hovertext\": [\"jim\"], \"ids\": [\"jim\"], \"legendgroup\": \"pict=jim\", \"marker\": {\"color\": \"#00cc96\", \"size\": [875], \"sizemode\": \"area\", \"sizeref\": 5.81, \"symbol\": \"circle\"}, \"mode\": \"markers\", \"name\": \"pict=jim\", \"showlegend\": true, \"x\": [4.7206651470094485], \"xaxis\": \"x\", \"y\": [3.648320778428376], \"yaxis\": \"y\", \"type\": \"scatter\"}, {\"hoverlabel\": {\"namelength\": 0}, \"hovertemplate\": \"<b>%{hovertext}</b><br><br>pict=pam<br>season=5<br>valence=%{x}<br>arousal=%{y}<br>freq=%{marker.size}\", \"hovertext\": [\"pam\"], \"ids\": [\"pam\"], \"legendgroup\": \"pict=pam\", \"marker\": {\"color\": \"#ab63fa\", \"size\": [706], \"sizemode\": \"area\", \"sizeref\": 5.81, \"symbol\": \"circle\"}, \"mode\": \"markers\", \"name\": \"pict=pam\", \"showlegend\": true, \"x\": [4.8569903299985135], \"xaxis\": \"x\", \"y\": [3.6197523509687537], \"yaxis\": \"y\", \"type\": \"scatter\"}, {\"hoverlabel\": {\"namelength\": 0}, \"hovertemplate\": \"<b>%{hovertext}</b><br><br>pict=andy<br>season=5<br>valence=%{x}<br>arousal=%{y}<br>freq=%{marker.size}\", \"hovertext\": [\"andy\"], \"ids\": [\"andy\"], \"legendgroup\": \"pict=andy\", \"marker\": {\"color\": \"#FFA15A\", \"size\": [497], \"sizemode\": \"area\", \"sizeref\": 5.81, \"symbol\": \"circle\"}, \"mode\": \"markers\", \"name\": \"pict=andy\", \"showlegend\": true, \"x\": [4.88652841295808], \"xaxis\": \"x\", \"y\": [3.782045463792535], \"yaxis\": \"y\", \"type\": \"scatter\"}, {\"hoverlabel\": {\"namelength\": 0}, \"hovertemplate\": \"<b>%{hovertext}</b><br><br>pict=kevin<br>season=5<br>valence=%{x}<br>arousal=%{y}<br>freq=%{marker.size}\", \"hovertext\": [\"kevin\"], \"ids\": [\"kevin\"], \"legendgroup\": \"pict=kevin\", \"marker\": {\"color\": \"#19d3f3\", \"size\": [187], \"sizemode\": \"area\", \"sizeref\": 5.81, \"symbol\": \"circle\"}, \"mode\": \"markers\", \"name\": \"pict=kevin\", \"showlegend\": true, \"x\": [5.1225718645340255], \"xaxis\": \"x\", \"y\": [3.8975373186165387], \"yaxis\": \"y\", \"type\": \"scatter\"}, {\"hoverlabel\": {\"namelength\": 0}, \"hovertemplate\": \"<b>%{hovertext}</b><br><br>pict=angela<br>season=5<br>valence=%{x}<br>arousal=%{y}<br>freq=%{marker.size}\", \"hovertext\": [\"angela\"], \"ids\": [\"angela\"], \"legendgroup\": \"pict=angela\", \"marker\": {\"color\": \"#FF6692\", \"size\": [221], \"sizemode\": \"area\", \"sizeref\": 5.81, \"symbol\": \"circle\"}, \"mode\": \"markers\", \"name\": \"pict=angela\", \"showlegend\": true, \"x\": [4.695946515992519], \"xaxis\": \"x\", \"y\": [3.596837333959804], \"yaxis\": \"y\", \"type\": \"scatter\"}, {\"hoverlabel\": {\"namelength\": 0}, \"hovertemplate\": \"<b>%{hovertext}</b><br><br>pict=oscar<br>season=5<br>valence=%{x}<br>arousal=%{y}<br>freq=%{marker.size}\", \"hovertext\": [\"oscar\"], \"ids\": [\"oscar\"], \"legendgroup\": \"pict=oscar\", \"marker\": {\"color\": \"#B6E880\", \"size\": [216], \"sizemode\": \"area\", \"sizeref\": 5.81, \"symbol\": \"circle\"}, \"mode\": \"markers\", \"name\": \"pict=oscar\", \"showlegend\": true, \"x\": [4.967389150092585], \"xaxis\": \"x\", \"y\": [3.7355629427422516], \"yaxis\": \"y\", \"type\": \"scatter\"}, {\"hoverlabel\": {\"namelength\": 0}, \"hovertemplate\": \"<b>%{hovertext}</b><br><br>pict=erin<br>season=5<br>valence=%{x}<br>arousal=%{y}<br>freq=%{marker.size}\", \"hovertext\": [\"erin\"], \"ids\": [\"erin\"], \"legendgroup\": \"pict=erin\", \"marker\": {\"color\": \"#FF97FF\", \"size\": [53], \"sizemode\": \"area\", \"sizeref\": 5.81, \"symbol\": \"circle\"}, \"mode\": \"markers\", \"name\": \"pict=erin\", \"showlegend\": true, \"x\": [4.682001952598563], \"xaxis\": \"x\", \"y\": [3.4998526000072365], \"yaxis\": \"y\", \"type\": \"scatter\"}, {\"hoverlabel\": {\"namelength\": 0}, \"hovertemplate\": \"<b>%{hovertext}</b><br><br>pict=ryan<br>season=5<br>valence=%{x}<br>arousal=%{y}<br>freq=%{marker.size}\", \"hovertext\": [\"ryan\"], \"ids\": [\"ryan\"], \"legendgroup\": \"pict=ryan\", \"marker\": {\"color\": \"#FECB52\", \"size\": [169], \"sizemode\": \"area\", \"sizeref\": 5.81, \"symbol\": \"circle\"}, \"mode\": \"markers\", \"name\": \"pict=ryan\", \"showlegend\": true, \"x\": [4.936027180519634], \"xaxis\": \"x\", \"y\": [3.828074132234901], \"yaxis\": \"y\", \"type\": \"scatter\"}], \"name\": \"5\"}, {\"data\": [{\"hoverlabel\": {\"namelength\": 0}, \"hovertemplate\": \"<b>%{hovertext}</b><br><br>pict=michael<br>season=6<br>valence=%{x}<br>arousal=%{y}<br>freq=%{marker.size}\", \"hovertext\": [\"michael\"], \"ids\": [\"michael\"], \"legendgroup\": \"pict=michael\", \"marker\": {\"color\": \"#636efa\", \"size\": [1983], \"sizemode\": \"area\", \"sizeref\": 5.81, \"symbol\": \"circle\"}, \"mode\": \"markers\", \"name\": \"pict=michael\", \"showlegend\": true, \"x\": [4.901851892002941], \"xaxis\": \"x\", \"y\": [3.7471737801900016], \"yaxis\": \"y\", \"type\": \"scatter\"}, {\"hoverlabel\": {\"namelength\": 0}, \"hovertemplate\": \"<b>%{hovertext}</b><br><br>pict=dwight<br>season=6<br>valence=%{x}<br>arousal=%{y}<br>freq=%{marker.size}\", \"hovertext\": [\"dwight\"], \"ids\": [\"dwight\"], \"legendgroup\": \"pict=dwight\", \"marker\": {\"color\": \"#EF553B\", \"size\": [811], \"sizemode\": \"area\", \"sizeref\": 5.81, \"symbol\": \"circle\"}, \"mode\": \"markers\", \"name\": \"pict=dwight\", \"showlegend\": true, \"x\": [4.961536154240219], \"xaxis\": \"x\", \"y\": [3.923033968378251], \"yaxis\": \"y\", \"type\": \"scatter\"}, {\"hoverlabel\": {\"namelength\": 0}, \"hovertemplate\": \"<b>%{hovertext}</b><br><br>pict=jim<br>season=6<br>valence=%{x}<br>arousal=%{y}<br>freq=%{marker.size}\", \"hovertext\": [\"jim\"], \"ids\": [\"jim\"], \"legendgroup\": \"pict=jim\", \"marker\": {\"color\": \"#00cc96\", \"size\": [928], \"sizemode\": \"area\", \"sizeref\": 5.81, \"symbol\": \"circle\"}, \"mode\": \"markers\", \"name\": \"pict=jim\", \"showlegend\": true, \"x\": [4.723548022259676], \"xaxis\": \"x\", \"y\": [3.5794221077715416], \"yaxis\": \"y\", \"type\": \"scatter\"}, {\"hoverlabel\": {\"namelength\": 0}, \"hovertemplate\": \"<b>%{hovertext}</b><br><br>pict=pam<br>season=6<br>valence=%{x}<br>arousal=%{y}<br>freq=%{marker.size}\", \"hovertext\": [\"pam\"], \"ids\": [\"pam\"], \"legendgroup\": \"pict=pam\", \"marker\": {\"color\": \"#ab63fa\", \"size\": [706], \"sizemode\": \"area\", \"sizeref\": 5.81, \"symbol\": \"circle\"}, \"mode\": \"markers\", \"name\": \"pict=pam\", \"showlegend\": true, \"x\": [4.727651335315737], \"xaxis\": \"x\", \"y\": [3.6317719486260183], \"yaxis\": \"y\", \"type\": \"scatter\"}, {\"hoverlabel\": {\"namelength\": 0}, \"hovertemplate\": \"<b>%{hovertext}</b><br><br>pict=andy<br>season=6<br>valence=%{x}<br>arousal=%{y}<br>freq=%{marker.size}\", \"hovertext\": [\"andy\"], \"ids\": [\"andy\"], \"legendgroup\": \"pict=andy\", \"marker\": {\"color\": \"#FFA15A\", \"size\": [538], \"sizemode\": \"area\", \"sizeref\": 5.81, \"symbol\": \"circle\"}, \"mode\": \"markers\", \"name\": \"pict=andy\", \"showlegend\": true, \"x\": [5.089960177569277], \"xaxis\": \"x\", \"y\": [3.9235014493134193], \"yaxis\": \"y\", \"type\": \"scatter\"}, {\"hoverlabel\": {\"namelength\": 0}, \"hovertemplate\": \"<b>%{hovertext}</b><br><br>pict=kevin<br>season=6<br>valence=%{x}<br>arousal=%{y}<br>freq=%{marker.size}\", \"hovertext\": [\"kevin\"], \"ids\": [\"kevin\"], \"legendgroup\": \"pict=kevin\", \"marker\": {\"color\": \"#19d3f3\", \"size\": [228], \"sizemode\": \"area\", \"sizeref\": 5.81, \"symbol\": \"circle\"}, \"mode\": \"markers\", \"name\": \"pict=kevin\", \"showlegend\": true, \"x\": [4.608453309927348], \"xaxis\": \"x\", \"y\": [3.6528409806018063], \"yaxis\": \"y\", \"type\": \"scatter\"}, {\"hoverlabel\": {\"namelength\": 0}, \"hovertemplate\": \"<b>%{hovertext}</b><br><br>pict=angela<br>season=6<br>valence=%{x}<br>arousal=%{y}<br>freq=%{marker.size}\", \"hovertext\": [\"angela\"], \"ids\": [\"angela\"], \"legendgroup\": \"pict=angela\", \"marker\": {\"color\": \"#FF6692\", \"size\": [136], \"sizemode\": \"area\", \"sizeref\": 5.81, \"symbol\": \"circle\"}, \"mode\": \"markers\", \"name\": \"pict=angela\", \"showlegend\": true, \"x\": [4.553356473669855], \"xaxis\": \"x\", \"y\": [3.694711342982037], \"yaxis\": \"y\", \"type\": \"scatter\"}, {\"hoverlabel\": {\"namelength\": 0}, \"hovertemplate\": \"<b>%{hovertext}</b><br><br>pict=oscar<br>season=6<br>valence=%{x}<br>arousal=%{y}<br>freq=%{marker.size}\", \"hovertext\": [\"oscar\"], \"ids\": [\"oscar\"], \"legendgroup\": \"pict=oscar\", \"marker\": {\"color\": \"#B6E880\", \"size\": [177], \"sizemode\": \"area\", \"sizeref\": 5.81, \"symbol\": \"circle\"}, \"mode\": \"markers\", \"name\": \"pict=oscar\", \"showlegend\": true, \"x\": [4.802822239818762], \"xaxis\": \"x\", \"y\": [3.7645677496423775], \"yaxis\": \"y\", \"type\": \"scatter\"}, {\"hoverlabel\": {\"namelength\": 0}, \"hovertemplate\": \"<b>%{hovertext}</b><br><br>pict=erin<br>season=6<br>valence=%{x}<br>arousal=%{y}<br>freq=%{marker.size}\", \"hovertext\": [\"erin\"], \"ids\": [\"erin\"], \"legendgroup\": \"pict=erin\", \"marker\": {\"color\": \"#FF97FF\", \"size\": [298], \"sizemode\": \"area\", \"sizeref\": 5.81, \"symbol\": \"circle\"}, \"mode\": \"markers\", \"name\": \"pict=erin\", \"showlegend\": true, \"x\": [5.197338753557292], \"xaxis\": \"x\", \"y\": [3.9435027162955736], \"yaxis\": \"y\", \"type\": \"scatter\"}, {\"hoverlabel\": {\"namelength\": 0}, \"hovertemplate\": \"<b>%{hovertext}</b><br><br>pict=ryan<br>season=6<br>valence=%{x}<br>arousal=%{y}<br>freq=%{marker.size}\", \"hovertext\": [\"ryan\"], \"ids\": [\"ryan\"], \"legendgroup\": \"pict=ryan\", \"marker\": {\"color\": \"#FECB52\", \"size\": [125], \"sizemode\": \"area\", \"sizeref\": 5.81, \"symbol\": \"circle\"}, \"mode\": \"markers\", \"name\": \"pict=ryan\", \"showlegend\": true, \"x\": [4.606868809114388], \"xaxis\": \"x\", \"y\": [3.684537005509717], \"yaxis\": \"y\", \"type\": \"scatter\"}], \"name\": \"6\"}, {\"data\": [{\"hoverlabel\": {\"namelength\": 0}, \"hovertemplate\": \"<b>%{hovertext}</b><br><br>pict=michael<br>season=7<br>valence=%{x}<br>arousal=%{y}<br>freq=%{marker.size}\", \"hovertext\": [\"michael\"], \"ids\": [\"michael\"], \"legendgroup\": \"pict=michael\", \"marker\": {\"color\": \"#636efa\", \"size\": [1401], \"sizemode\": \"area\", \"sizeref\": 5.81, \"symbol\": \"circle\"}, \"mode\": \"markers\", \"name\": \"pict=michael\", \"showlegend\": true, \"x\": [5.0823687600365615], \"xaxis\": \"x\", \"y\": [3.9218848935537203], \"yaxis\": \"y\", \"type\": \"scatter\"}, {\"hoverlabel\": {\"namelength\": 0}, \"hovertemplate\": \"<b>%{hovertext}</b><br><br>pict=dwight<br>season=7<br>valence=%{x}<br>arousal=%{y}<br>freq=%{marker.size}\", \"hovertext\": [\"dwight\"], \"ids\": [\"dwight\"], \"legendgroup\": \"pict=dwight\", \"marker\": {\"color\": \"#EF553B\", \"size\": [703], \"sizemode\": \"area\", \"sizeref\": 5.81, \"symbol\": \"circle\"}, \"mode\": \"markers\", \"name\": \"pict=dwight\", \"showlegend\": true, \"x\": [4.9079604993831065], \"xaxis\": \"x\", \"y\": [3.85569941458049], \"yaxis\": \"y\", \"type\": \"scatter\"}, {\"hoverlabel\": {\"namelength\": 0}, \"hovertemplate\": \"<b>%{hovertext}</b><br><br>pict=jim<br>season=7<br>valence=%{x}<br>arousal=%{y}<br>freq=%{marker.size}\", \"hovertext\": [\"jim\"], \"ids\": [\"jim\"], \"legendgroup\": \"pict=jim\", \"marker\": {\"color\": \"#00cc96\", \"size\": [687], \"sizemode\": \"area\", \"sizeref\": 5.81, \"symbol\": \"circle\"}, \"mode\": \"markers\", \"name\": \"pict=jim\", \"showlegend\": true, \"x\": [4.691772566802226], \"xaxis\": \"x\", \"y\": [3.6306225785087913], \"yaxis\": \"y\", \"type\": \"scatter\"}, {\"hoverlabel\": {\"namelength\": 0}, \"hovertemplate\": \"<b>%{hovertext}</b><br><br>pict=pam<br>season=7<br>valence=%{x}<br>arousal=%{y}<br>freq=%{marker.size}\", \"hovertext\": [\"pam\"], \"ids\": [\"pam\"], \"legendgroup\": \"pict=pam\", \"marker\": {\"color\": \"#ab63fa\", \"size\": [612], \"sizemode\": \"area\", \"sizeref\": 5.81, \"symbol\": \"circle\"}, \"mode\": \"markers\", \"name\": \"pict=pam\", \"showlegend\": true, \"x\": [5.092692231981942], \"xaxis\": \"x\", \"y\": [3.9465332318171376], \"yaxis\": \"y\", \"type\": \"scatter\"}, {\"hoverlabel\": {\"namelength\": 0}, \"hovertemplate\": \"<b>%{hovertext}</b><br><br>pict=andy<br>season=7<br>valence=%{x}<br>arousal=%{y}<br>freq=%{marker.size}\", \"hovertext\": [\"andy\"], \"ids\": [\"andy\"], \"legendgroup\": \"pict=andy\", \"marker\": {\"color\": \"#FFA15A\", \"size\": [557], \"sizemode\": \"area\", \"sizeref\": 5.81, \"symbol\": \"circle\"}, \"mode\": \"markers\", \"name\": \"pict=andy\", \"showlegend\": true, \"x\": [5.0094620767896485], \"xaxis\": \"x\", \"y\": [3.8584417528686856], \"yaxis\": \"y\", \"type\": \"scatter\"}, {\"hoverlabel\": {\"namelength\": 0}, \"hovertemplate\": \"<b>%{hovertext}</b><br><br>pict=kevin<br>season=7<br>valence=%{x}<br>arousal=%{y}<br>freq=%{marker.size}\", \"hovertext\": [\"kevin\"], \"ids\": [\"kevin\"], \"legendgroup\": \"pict=kevin\", \"marker\": {\"color\": \"#19d3f3\", \"size\": [240], \"sizemode\": \"area\", \"sizeref\": 5.81, \"symbol\": \"circle\"}, \"mode\": \"markers\", \"name\": \"pict=kevin\", \"showlegend\": true, \"x\": [5.113213402456446], \"xaxis\": \"x\", \"y\": [3.994798750221477], \"yaxis\": \"y\", \"type\": \"scatter\"}, {\"hoverlabel\": {\"namelength\": 0}, \"hovertemplate\": \"<b>%{hovertext}</b><br><br>pict=angela<br>season=7<br>valence=%{x}<br>arousal=%{y}<br>freq=%{marker.size}\", \"hovertext\": [\"angela\"], \"ids\": [\"angela\"], \"legendgroup\": \"pict=angela\", \"marker\": {\"color\": \"#FF6692\", \"size\": [161], \"sizemode\": \"area\", \"sizeref\": 5.81, \"symbol\": \"circle\"}, \"mode\": \"markers\", \"name\": \"pict=angela\", \"showlegend\": true, \"x\": [4.641208983751551], \"xaxis\": \"x\", \"y\": [3.473678086329365], \"yaxis\": \"y\", \"type\": \"scatter\"}, {\"hoverlabel\": {\"namelength\": 0}, \"hovertemplate\": \"<b>%{hovertext}</b><br><br>pict=oscar<br>season=7<br>valence=%{x}<br>arousal=%{y}<br>freq=%{marker.size}\", \"hovertext\": [\"oscar\"], \"ids\": [\"oscar\"], \"legendgroup\": \"pict=oscar\", \"marker\": {\"color\": \"#B6E880\", \"size\": [197], \"sizemode\": \"area\", \"sizeref\": 5.81, \"symbol\": \"circle\"}, \"mode\": \"markers\", \"name\": \"pict=oscar\", \"showlegend\": true, \"x\": [4.705598155162027], \"xaxis\": \"x\", \"y\": [3.5796357233113016], \"yaxis\": \"y\", \"type\": \"scatter\"}, {\"hoverlabel\": {\"namelength\": 0}, \"hovertemplate\": \"<b>%{hovertext}</b><br><br>pict=erin<br>season=7<br>valence=%{x}<br>arousal=%{y}<br>freq=%{marker.size}\", \"hovertext\": [\"erin\"], \"ids\": [\"erin\"], \"legendgroup\": \"pict=erin\", \"marker\": {\"color\": \"#FF97FF\", \"size\": [311], \"sizemode\": \"area\", \"sizeref\": 5.81, \"symbol\": \"circle\"}, \"mode\": \"markers\", \"name\": \"pict=erin\", \"showlegend\": true, \"x\": [4.954675045072039], \"xaxis\": \"x\", \"y\": [3.879756250923387], \"yaxis\": \"y\", \"type\": \"scatter\"}, {\"hoverlabel\": {\"namelength\": 0}, \"hovertemplate\": \"<b>%{hovertext}</b><br><br>pict=ryan<br>season=7<br>valence=%{x}<br>arousal=%{y}<br>freq=%{marker.size}\", \"hovertext\": [\"ryan\"], \"ids\": [\"ryan\"], \"legendgroup\": \"pict=ryan\", \"marker\": {\"color\": \"#FECB52\", \"size\": [176], \"sizemode\": \"area\", \"sizeref\": 5.81, \"symbol\": \"circle\"}, \"mode\": \"markers\", \"name\": \"pict=ryan\", \"showlegend\": true, \"x\": [5.157059697884699], \"xaxis\": \"x\", \"y\": [4.012270264571849], \"yaxis\": \"y\", \"type\": \"scatter\"}], \"name\": \"7\"}, {\"data\": [{\"hoverlabel\": {\"namelength\": 0}, \"hovertemplate\": \"<b>%{hovertext}</b><br><br>pict=michael<br>season=8<br>valence=%{x}<br>arousal=%{y}<br>freq=%{marker.size}\", \"hovertext\": [\"michael\"], \"ids\": [\"michael\"], \"legendgroup\": \"pict=michael\", \"marker\": {\"color\": \"#636efa\", \"size\": [0], \"sizemode\": \"area\", \"sizeref\": 5.81, \"symbol\": \"circle\"}, \"mode\": \"markers\", \"name\": \"pict=michael\", \"showlegend\": true, \"x\": [null], \"xaxis\": \"x\", \"y\": [null], \"yaxis\": \"y\", \"type\": \"scatter\"}, {\"hoverlabel\": {\"namelength\": 0}, \"hovertemplate\": \"<b>%{hovertext}</b><br><br>pict=dwight<br>season=8<br>valence=%{x}<br>arousal=%{y}<br>freq=%{marker.size}\", \"hovertext\": [\"dwight\"], \"ids\": [\"dwight\"], \"legendgroup\": \"pict=dwight\", \"marker\": {\"color\": \"#EF553B\", \"size\": [946], \"sizemode\": \"area\", \"sizeref\": 5.81, \"symbol\": \"circle\"}, \"mode\": \"markers\", \"name\": \"pict=dwight\", \"showlegend\": true, \"x\": [4.910026491301876], \"xaxis\": \"x\", \"y\": [3.902589659485572], \"yaxis\": \"y\", \"type\": \"scatter\"}, {\"hoverlabel\": {\"namelength\": 0}, \"hovertemplate\": \"<b>%{hovertext}</b><br><br>pict=jim<br>season=8<br>valence=%{x}<br>arousal=%{y}<br>freq=%{marker.size}\", \"hovertext\": [\"jim\"], \"ids\": [\"jim\"], \"legendgroup\": \"pict=jim\", \"marker\": {\"color\": \"#00cc96\", \"size\": [869], \"sizemode\": \"area\", \"sizeref\": 5.81, \"symbol\": \"circle\"}, \"mode\": \"markers\", \"name\": \"pict=jim\", \"showlegend\": true, \"x\": [4.725031440236227], \"xaxis\": \"x\", \"y\": [3.6395396283427615], \"yaxis\": \"y\", \"type\": \"scatter\"}, {\"hoverlabel\": {\"namelength\": 0}, \"hovertemplate\": \"<b>%{hovertext}</b><br><br>pict=pam<br>season=8<br>valence=%{x}<br>arousal=%{y}<br>freq=%{marker.size}\", \"hovertext\": [\"pam\"], \"ids\": [\"pam\"], \"legendgroup\": \"pict=pam\", \"marker\": {\"color\": \"#ab63fa\", \"size\": [475], \"sizemode\": \"area\", \"sizeref\": 5.81, \"symbol\": \"circle\"}, \"mode\": \"markers\", \"name\": \"pict=pam\", \"showlegend\": true, \"x\": [4.975507904695254], \"xaxis\": \"x\", \"y\": [3.814595697620199], \"yaxis\": \"y\", \"type\": \"scatter\"}, {\"hoverlabel\": {\"namelength\": 0}, \"hovertemplate\": \"<b>%{hovertext}</b><br><br>pict=andy<br>season=8<br>valence=%{x}<br>arousal=%{y}<br>freq=%{marker.size}\", \"hovertext\": [\"andy\"], \"ids\": [\"andy\"], \"legendgroup\": \"pict=andy\", \"marker\": {\"color\": \"#FFA15A\", \"size\": [1125], \"sizemode\": \"area\", \"sizeref\": 5.81, \"symbol\": \"circle\"}, \"mode\": \"markers\", \"name\": \"pict=andy\", \"showlegend\": true, \"x\": [5.0517805848463455], \"xaxis\": \"x\", \"y\": [3.853500697949682], \"yaxis\": \"y\", \"type\": \"scatter\"}, {\"hoverlabel\": {\"namelength\": 0}, \"hovertemplate\": \"<b>%{hovertext}</b><br><br>pict=kevin<br>season=8<br>valence=%{x}<br>arousal=%{y}<br>freq=%{marker.size}\", \"hovertext\": [\"kevin\"], \"ids\": [\"kevin\"], \"legendgroup\": \"pict=kevin\", \"marker\": {\"color\": \"#19d3f3\", \"size\": [247], \"sizemode\": \"area\", \"sizeref\": 5.81, \"symbol\": \"circle\"}, \"mode\": \"markers\", \"name\": \"pict=kevin\", \"showlegend\": true, \"x\": [4.776248838950341], \"xaxis\": \"x\", \"y\": [3.7178640216380767], \"yaxis\": \"y\", \"type\": \"scatter\"}, {\"hoverlabel\": {\"namelength\": 0}, \"hovertemplate\": \"<b>%{hovertext}</b><br><br>pict=angela<br>season=8<br>valence=%{x}<br>arousal=%{y}<br>freq=%{marker.size}\", \"hovertext\": [\"angela\"], \"ids\": [\"angela\"], \"legendgroup\": \"pict=angela\", \"marker\": {\"color\": \"#FF6692\", \"size\": [166], \"sizemode\": \"area\", \"sizeref\": 5.81, \"symbol\": \"circle\"}, \"mode\": \"markers\", \"name\": \"pict=angela\", \"showlegend\": true, \"x\": [4.8324244280999675], \"xaxis\": \"x\", \"y\": [3.683517073588217], \"yaxis\": \"y\", \"type\": \"scatter\"}, {\"hoverlabel\": {\"namelength\": 0}, \"hovertemplate\": \"<b>%{hovertext}</b><br><br>pict=oscar<br>season=8<br>valence=%{x}<br>arousal=%{y}<br>freq=%{marker.size}\", \"hovertext\": [\"oscar\"], \"ids\": [\"oscar\"], \"legendgroup\": \"pict=oscar\", \"marker\": {\"color\": \"#B6E880\", \"size\": [235], \"sizemode\": \"area\", \"sizeref\": 5.81, \"symbol\": \"circle\"}, \"mode\": \"markers\", \"name\": \"pict=oscar\", \"showlegend\": true, \"x\": [4.637613598169682], \"xaxis\": \"x\", \"y\": [3.5936327087741025], \"yaxis\": \"y\", \"type\": \"scatter\"}, {\"hoverlabel\": {\"namelength\": 0}, \"hovertemplate\": \"<b>%{hovertext}</b><br><br>pict=erin<br>season=8<br>valence=%{x}<br>arousal=%{y}<br>freq=%{marker.size}\", \"hovertext\": [\"erin\"], \"ids\": [\"erin\"], \"legendgroup\": \"pict=erin\", \"marker\": {\"color\": \"#FF97FF\", \"size\": [427], \"sizemode\": \"area\", \"sizeref\": 5.81, \"symbol\": \"circle\"}, \"mode\": \"markers\", \"name\": \"pict=erin\", \"showlegend\": true, \"x\": [4.8977497554926686], \"xaxis\": \"x\", \"y\": [3.8126924078233664], \"yaxis\": \"y\", \"type\": \"scatter\"}, {\"hoverlabel\": {\"namelength\": 0}, \"hovertemplate\": \"<b>%{hovertext}</b><br><br>pict=ryan<br>season=8<br>valence=%{x}<br>arousal=%{y}<br>freq=%{marker.size}\", \"hovertext\": [\"ryan\"], \"ids\": [\"ryan\"], \"legendgroup\": \"pict=ryan\", \"marker\": {\"color\": \"#FECB52\", \"size\": [189], \"sizemode\": \"area\", \"sizeref\": 5.81, \"symbol\": \"circle\"}, \"mode\": \"markers\", \"name\": \"pict=ryan\", \"showlegend\": true, \"x\": [5.112817495136543], \"xaxis\": \"x\", \"y\": [3.880402045392188], \"yaxis\": \"y\", \"type\": \"scatter\"}], \"name\": \"8\"}, {\"data\": [{\"hoverlabel\": {\"namelength\": 0}, \"hovertemplate\": \"<b>%{hovertext}</b><br><br>pict=michael<br>season=9<br>valence=%{x}<br>arousal=%{y}<br>freq=%{marker.size}\", \"hovertext\": [\"michael\"], \"ids\": [\"michael\"], \"legendgroup\": \"pict=michael\", \"marker\": {\"color\": \"#636efa\", \"size\": [2], \"sizemode\": \"area\", \"sizeref\": 5.81, \"symbol\": \"circle\"}, \"mode\": \"markers\", \"name\": \"pict=michael\", \"showlegend\": true, \"x\": [2.9020427126666184], \"xaxis\": \"x\", \"y\": [2.5281777406667407], \"yaxis\": \"y\", \"type\": \"scatter\"}, {\"hoverlabel\": {\"namelength\": 0}, \"hovertemplate\": \"<b>%{hovertext}</b><br><br>pict=dwight<br>season=9<br>valence=%{x}<br>arousal=%{y}<br>freq=%{marker.size}\", \"hovertext\": [\"dwight\"], \"ids\": [\"dwight\"], \"legendgroup\": \"pict=dwight\", \"marker\": {\"color\": \"#EF553B\", \"size\": [1069], \"sizemode\": \"area\", \"sizeref\": 5.81, \"symbol\": \"circle\"}, \"mode\": \"markers\", \"name\": \"pict=dwight\", \"showlegend\": true, \"x\": [5.065923113406958], \"xaxis\": \"x\", \"y\": [3.9132716571133197], \"yaxis\": \"y\", \"type\": \"scatter\"}, {\"hoverlabel\": {\"namelength\": 0}, \"hovertemplate\": \"<b>%{hovertext}</b><br><br>pict=jim<br>season=9<br>valence=%{x}<br>arousal=%{y}<br>freq=%{marker.size}\", \"hovertext\": [\"jim\"], \"ids\": [\"jim\"], \"legendgroup\": \"pict=jim\", \"marker\": {\"color\": \"#00cc96\", \"size\": [798], \"sizemode\": \"area\", \"sizeref\": 5.81, \"symbol\": \"circle\"}, \"mode\": \"markers\", \"name\": \"pict=jim\", \"showlegend\": true, \"x\": [5.182491367480597], \"xaxis\": \"x\", \"y\": [3.941145979159101], \"yaxis\": \"y\", \"type\": \"scatter\"}, {\"hoverlabel\": {\"namelength\": 0}, \"hovertemplate\": \"<b>%{hovertext}</b><br><br>pict=pam<br>season=9<br>valence=%{x}<br>arousal=%{y}<br>freq=%{marker.size}\", \"hovertext\": [\"pam\"], \"ids\": [\"pam\"], \"legendgroup\": \"pict=pam\", \"marker\": {\"color\": \"#ab63fa\", \"size\": [735], \"sizemode\": \"area\", \"sizeref\": 5.81, \"symbol\": \"circle\"}, \"mode\": \"markers\", \"name\": \"pict=pam\", \"showlegend\": true, \"x\": [4.925676365795682], \"xaxis\": \"x\", \"y\": [3.730372876138589], \"yaxis\": \"y\", \"type\": \"scatter\"}, {\"hoverlabel\": {\"namelength\": 0}, \"hovertemplate\": \"<b>%{hovertext}</b><br><br>pict=andy<br>season=9<br>valence=%{x}<br>arousal=%{y}<br>freq=%{marker.size}\", \"hovertext\": [\"andy\"], \"ids\": [\"andy\"], \"legendgroup\": \"pict=andy\", \"marker\": {\"color\": \"#FFA15A\", \"size\": [637], \"sizemode\": \"area\", \"sizeref\": 5.81, \"symbol\": \"circle\"}, \"mode\": \"markers\", \"name\": \"pict=andy\", \"showlegend\": true, \"x\": [5.073221762240042], \"xaxis\": \"x\", \"y\": [3.985951848585852], \"yaxis\": \"y\", \"type\": \"scatter\"}, {\"hoverlabel\": {\"namelength\": 0}, \"hovertemplate\": \"<b>%{hovertext}</b><br><br>pict=kevin<br>season=9<br>valence=%{x}<br>arousal=%{y}<br>freq=%{marker.size}\", \"hovertext\": [\"kevin\"], \"ids\": [\"kevin\"], \"legendgroup\": \"pict=kevin\", \"marker\": {\"color\": \"#19d3f3\", \"size\": [266], \"sizemode\": \"area\", \"sizeref\": 5.81, \"symbol\": \"circle\"}, \"mode\": \"markers\", \"name\": \"pict=kevin\", \"showlegend\": true, \"x\": [4.706483029831968], \"xaxis\": \"x\", \"y\": [3.699739385304668], \"yaxis\": \"y\", \"type\": \"scatter\"}, {\"hoverlabel\": {\"namelength\": 0}, \"hovertemplate\": \"<b>%{hovertext}</b><br><br>pict=angela<br>season=9<br>valence=%{x}<br>arousal=%{y}<br>freq=%{marker.size}\", \"hovertext\": [\"angela\"], \"ids\": [\"angela\"], \"legendgroup\": \"pict=angela\", \"marker\": {\"color\": \"#FF6692\", \"size\": [381], \"sizemode\": \"area\", \"sizeref\": 5.81, \"symbol\": \"circle\"}, \"mode\": \"markers\", \"name\": \"pict=angela\", \"showlegend\": true, \"x\": [4.652180596149964], \"xaxis\": \"x\", \"y\": [3.6097080819867178], \"yaxis\": \"y\", \"type\": \"scatter\"}, {\"hoverlabel\": {\"namelength\": 0}, \"hovertemplate\": \"<b>%{hovertext}</b><br><br>pict=oscar<br>season=9<br>valence=%{x}<br>arousal=%{y}<br>freq=%{marker.size}\", \"hovertext\": [\"oscar\"], \"ids\": [\"oscar\"], \"legendgroup\": \"pict=oscar\", \"marker\": {\"color\": \"#B6E880\", \"size\": [294], \"sizemode\": \"area\", \"sizeref\": 5.81, \"symbol\": \"circle\"}, \"mode\": \"markers\", \"name\": \"pict=oscar\", \"showlegend\": true, \"x\": [4.7262713591539836], \"xaxis\": \"x\", \"y\": [3.6601064124024534], \"yaxis\": \"y\", \"type\": \"scatter\"}, {\"hoverlabel\": {\"namelength\": 0}, \"hovertemplate\": \"<b>%{hovertext}</b><br><br>pict=erin<br>season=9<br>valence=%{x}<br>arousal=%{y}<br>freq=%{marker.size}\", \"hovertext\": [\"erin\"], \"ids\": [\"erin\"], \"legendgroup\": \"pict=erin\", \"marker\": {\"color\": \"#FF97FF\", \"size\": [380], \"sizemode\": \"area\", \"sizeref\": 5.81, \"symbol\": \"circle\"}, \"mode\": \"markers\", \"name\": \"pict=erin\", \"showlegend\": true, \"x\": [4.567832213179468], \"xaxis\": \"x\", \"y\": [3.6156267673026763], \"yaxis\": \"y\", \"type\": \"scatter\"}, {\"hoverlabel\": {\"namelength\": 0}, \"hovertemplate\": \"<b>%{hovertext}</b><br><br>pict=ryan<br>season=9<br>valence=%{x}<br>arousal=%{y}<br>freq=%{marker.size}\", \"hovertext\": [\"ryan\"], \"ids\": [\"ryan\"], \"legendgroup\": \"pict=ryan\", \"marker\": {\"color\": \"#FECB52\", \"size\": [16], \"sizemode\": \"area\", \"sizeref\": 5.81, \"symbol\": \"circle\"}, \"mode\": \"markers\", \"name\": \"pict=ryan\", \"showlegend\": true, \"x\": [4.710993865386958], \"xaxis\": \"x\", \"y\": [3.290108284318612], \"yaxis\": \"y\", \"type\": \"scatter\"}], \"name\": \"9\"}]);\n",
       "                        }).then(function(){\n",
       "                            \n",
       "var gd = document.getElementById('f7292c16-a034-4202-aade-febf205bc881');\n",
       "var x = new MutationObserver(function (mutations, observer) {{\n",
       "        var display = window.getComputedStyle(gd).display;\n",
       "        if (!display || display === 'none') {{\n",
       "            console.log([gd, 'removed!']);\n",
       "            Plotly.purge(gd);\n",
       "            observer.disconnect();\n",
       "        }}\n",
       "}});\n",
       "\n",
       "// Listen for the removal of the full notebook cells\n",
       "var notebookContainer = gd.closest('#notebook-container');\n",
       "if (notebookContainer) {{\n",
       "    x.observe(notebookContainer, {childList: true});\n",
       "}}\n",
       "\n",
       "// Listen for the clearing of the current output cell\n",
       "var outputEl = gd.closest('.output');\n",
       "if (outputEl) {{\n",
       "    x.observe(outputEl, {childList: true});\n",
       "}}\n",
       "\n",
       "                        })\n",
       "                };\n",
       "                });\n",
       "            </script>\n",
       "        </div>"
      ]
     },
     "metadata": {},
     "output_type": "display_data"
    }
   ],
   "source": [
    "px.scatter(mock, x=\"valence\", y=\"arousal\", animation_frame=\"season\", animation_group=\"char\",\n",
    "           size=\"freq\", color=\"pict\", hover_name=\"char\",\n",
    "            range_x=[2.5,5.5], range_y=[2.5,5.5])"
   ]
  },
  {
   "cell_type": "code",
   "execution_count": null,
   "metadata": {},
   "outputs": [],
   "source": []
  }
 ],
 "metadata": {
  "kernelspec": {
   "display_name": "Python 3",
   "language": "python",
   "name": "python3"
  },
  "language_info": {
   "codemirror_mode": {
    "name": "ipython",
    "version": 3
   },
   "file_extension": ".py",
   "mimetype": "text/x-python",
   "name": "python",
   "nbconvert_exporter": "python",
   "pygments_lexer": "ipython3",
   "version": "3.7.1"
  }
 },
 "nbformat": 4,
 "nbformat_minor": 2
}
