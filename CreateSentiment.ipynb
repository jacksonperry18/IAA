{
 "cells": [
  {
   "cell_type": "code",
   "execution_count": 128,
   "metadata": {},
   "outputs": [],
   "source": [
    "#imports\n",
    "import pandas as pd\n",
    "import time\n",
    "import re\n",
    "import numpy as np\n",
    "from sentiment_module import sentiment\n",
    "import csv\n",
    "\n",
    "#read in the CSV\n",
    "#df = pd.read_csv('/Users/jacksonperry/Desktop/Fall 2/office.csv')\n",
    "\n",
    "#strip special characters from text\n",
    "#df['line_text']=df['line_text'].apply(lambda x: re.sub(r'[^\\w\\s]', '',x))\n",
    "#df=df.apply(lambda x: x.astype(str).str.lower())\n",
    "\n",
    "#create list of top 10 characters\n",
    "chars = ['michael','dwight','jim','pam','andy','kevin','angela','oscar','erin','ryan']\n",
    "final = pd.DataFrame(0, index = range(10), columns = ['name', 'valencesum', 'arousalsum','freq'])\n",
    "final['name'] = chars\n",
    "header = ['char','pict','season','freq','valence','arousal']\n",
    "s1 = ['1','2','3','4','5','6','7','8','9']\n",
    "\n",
    "with open('sentimentTest.csv',mode='w') as temp:\n",
    "    \n",
    "    #write the header line of the file\n",
    "    mywriter = csv.writer(temp, delimiter=',')\n",
    "    mywriter.writerow(header)\n",
    "    \n",
    "    #for each season\n",
    "    for s in s1:\n",
    "        \n",
    "        #for each quote in the original file\n",
    "        for row in df.iterrows():\n",
    "        \n",
    "            #while we are still in that season\n",
    "            if (int(row[1][1])==int(s)):\n",
    "                \n",
    "                #add one to frequency for that character, add valence and arousal score to running total\n",
    "                final.loc[final['name']==row[1][5],'freq'] +=1\n",
    "                final.loc[final['name']==row[1][5],'valencesum'] += sentiment.sentiment(row[1][4].split())['valence']\n",
    "                final.loc[final['name']==row[1][5],'arousalsum'] += sentiment.sentiment(row[1][4].split())['arousal']\n",
    "            \n",
    "        #once the season is over, calculate average valence and arousal\n",
    "        final['valence'] = final['valencesum']/final['freq']\n",
    "        final['arousal'] = final['arousalsum']/final['freq']\n",
    "            \n",
    "        #for each row in the final dataframe\n",
    "        for rowd in final.iterrows():\n",
    "                \n",
    "            #create the line for the CSV writer and write it to file\n",
    "            line = [rowd[1][0],rowd[1][0],s,rowd[1][3],rowd[1][4],rowd[1][5]]\n",
    "            mywriter.writerow(line)\n",
    "                \n",
    "            #reset the final dataframe for the next season\n",
    "            final = pd.DataFrame(0, index = range(10), columns = ['name', 'valencesum', 'arousalsum','freq'])\n",
    "            final['name'] = chars\n"
   ]
  },
  {
   "cell_type": "code",
   "execution_count": null,
   "metadata": {},
   "outputs": [],
   "source": []
  }
 ],
 "metadata": {
  "kernelspec": {
   "display_name": "Python 3",
   "language": "python",
   "name": "python3"
  },
  "language_info": {
   "codemirror_mode": {
    "name": "ipython",
    "version": 3
   },
   "file_extension": ".py",
   "mimetype": "text/x-python",
   "name": "python",
   "nbconvert_exporter": "python",
   "pygments_lexer": "ipython3",
   "version": "3.7.1"
  }
 },
 "nbformat": 4,
 "nbformat_minor": 2
}
